{
 "cells": [
  {
   "cell_type": "markdown",
   "source": [
    "Imports"
   ],
   "metadata": {
    "collapsed": false
   }
  },
  {
   "cell_type": "code",
   "execution_count": 3,
   "metadata": {
    "collapsed": true,
    "pycharm": {
     "name": "#%%\n"
    }
   },
   "outputs": [],
   "source": [
    "import pandas as pd\n",
    "import numpy as np\n",
    "from keras.models import Sequential\n",
    "from keras.layers import Dense, LeakyReLU\n",
    "from keras.layers import LSTM, Dropout\n",
    "from tensorflow.keras.optimizers import Adam\n",
    "from sklearn.preprocessing import MinMaxScaler\n",
    "import matplotlib.pyplot as plt\n",
    "%matplotlib inline"
   ]
  },
  {
   "cell_type": "code",
   "execution_count": 4,
   "outputs": [],
   "source": [
    "#hyperparameters\n",
    "\n",
    "steps_in_the_future = 50"
   ],
   "metadata": {
    "collapsed": false,
    "pycharm": {
     "name": "#%%\n"
    }
   }
  },
  {
   "cell_type": "markdown",
   "source": [
    "Getting the data"
   ],
   "metadata": {
    "collapsed": false
   }
  },
  {
   "cell_type": "code",
   "execution_count": 5,
   "outputs": [],
   "source": [
    "import os\n",
    "path_to_data = os.path.join(\"..\", \"ProcessingData\", \"BTC Minute CSVs\", \"BTCUSER_all_processed.parquet\")\n",
    "df = pd.read_parquet(path_to_data, engine='fastparquet')"
   ],
   "metadata": {
    "collapsed": false,
    "pycharm": {
     "name": "#%%\n"
    }
   }
  },
  {
   "cell_type": "code",
   "execution_count": 3,
   "outputs": [],
   "source": [
    "# df = pd.read_csv(\"gemini_BTCUSD_2021_1min.csv\")"
   ],
   "metadata": {
    "collapsed": false,
    "pycharm": {
     "name": "#%%\n"
    }
   }
  },
  {
   "cell_type": "code",
   "execution_count": 6,
   "outputs": [
    {
     "data": {
      "text/plain": "[0,\n 30,\n 60,\n 90,\n 120,\n 150,\n 180,\n 210,\n 240,\n 270,\n 300,\n 330,\n 360,\n 390,\n 420,\n 450,\n 480,\n 510,\n 540,\n 570,\n 600,\n 630,\n 660,\n 690,\n 720,\n 750,\n 780,\n 810,\n 840,\n 870,\n 900,\n 930,\n 960,\n 990,\n 1020,\n 1050,\n 1080,\n 1110,\n 1140,\n 1170,\n 1200,\n 1230,\n 1260,\n 1290,\n 1320,\n 1350,\n 1380,\n 1410,\n 1440,\n 1470,\n 1500,\n 1530,\n 1560,\n 1590,\n 1620,\n 1650,\n 1680,\n 1710,\n 1740,\n 1770,\n 1800,\n 1830,\n 1860,\n 1890,\n 1920,\n 1950,\n 1980,\n 2010,\n 2040,\n 2070,\n 2100,\n 2130,\n 2160,\n 2190,\n 2220,\n 2250,\n 2280,\n 2310,\n 2340,\n 2370,\n 2400,\n 2430,\n 2460,\n 2490,\n 2520,\n 2550,\n 2580,\n 2610,\n 2640,\n 2670,\n 2700,\n 2730,\n 2760,\n 2790,\n 2820,\n 2850,\n 2880,\n 2910,\n 2940,\n 2970,\n 3000,\n 3030,\n 3060,\n 3090,\n 3120,\n 3150,\n 3180,\n 3210,\n 3240,\n 3270,\n 3300,\n 3330,\n 3360,\n 3390,\n 3420,\n 3450,\n 3480,\n 3510,\n 3540,\n 3570,\n 3600,\n 3630,\n 3660,\n 3690,\n 3720,\n 3750,\n 3780,\n 3810,\n 3840,\n 3870,\n 3900,\n 3930,\n 3960,\n 3990,\n 4020,\n 4050,\n 4080,\n 4110,\n 4140,\n 4170,\n 4200,\n 4230,\n 4260,\n 4290,\n 4320,\n 4350,\n 4380,\n 4410,\n 4440,\n 4470,\n 4500,\n 4530,\n 4560,\n 4590,\n 4620,\n 4650,\n 4680,\n 4710,\n 4740,\n 4770,\n 4800,\n 4830,\n 4860,\n 4890,\n 4920,\n 4950,\n 4980,\n 5010,\n 5040,\n 5070,\n 5100,\n 5130,\n 5160,\n 5190,\n 5220,\n 5250,\n 5280,\n 5310,\n 5340,\n 5370,\n 5400,\n 5430,\n 5460,\n 5490,\n 5520,\n 5550,\n 5580,\n 5610,\n 5640,\n 5670,\n 5700,\n 5730,\n 5760,\n 5790,\n 5820,\n 5850,\n 5880,\n 5910,\n 5940,\n 5970,\n 6000,\n 6030,\n 6060,\n 6090,\n 6120,\n 6150,\n 6180,\n 6210,\n 6240,\n 6270,\n 6300,\n 6330,\n 6360,\n 6390,\n 6420,\n 6450,\n 6480,\n 6510,\n 6540,\n 6570,\n 6600,\n 6630,\n 6660,\n 6690,\n 6720,\n 6750,\n 6780,\n 6810,\n 6840,\n 6870,\n 6900,\n 6930,\n 6960,\n 6990,\n 7020,\n 7050,\n 7080,\n 7110,\n 7140,\n 7170,\n 7200,\n 7230,\n 7260,\n 7290,\n 7320,\n 7350,\n 7380,\n 7410,\n 7440,\n 7470,\n 7500,\n 7530,\n 7560,\n 7590,\n 7620,\n 7650,\n 7680,\n 7710,\n 7740,\n 7770,\n 7800,\n 7830,\n 7860,\n 7890,\n 7920,\n 7950,\n 7980,\n 8010,\n 8040,\n 8070,\n 8100,\n 8130,\n 8160,\n 8190,\n 8220,\n 8250,\n 8280,\n 8310,\n 8340,\n 8370,\n 8400,\n 8430,\n 8460,\n 8490,\n 8520,\n 8550,\n 8580,\n 8610,\n 8640,\n 8670,\n 8700,\n 8730,\n 8760,\n 8790,\n 8820,\n 8850,\n 8880,\n 8910,\n 8940,\n 8970,\n 9000,\n 9030,\n 9060,\n 9090,\n 9120,\n 9150,\n 9180,\n 9210,\n 9240,\n 9270,\n 9300,\n 9330,\n 9360,\n 9390,\n 9420,\n 9450,\n 9480,\n 9510,\n 9540,\n 9570,\n 9600,\n 9630,\n 9660,\n 9690,\n 9720,\n 9750,\n 9780,\n 9810,\n 9840,\n 9870,\n 9900,\n 9930,\n 9960,\n 9990,\n 10020,\n 10050,\n 10080,\n 10110,\n 10140,\n 10170,\n 10200,\n 10230,\n 10260,\n 10290,\n 10320,\n 10350,\n 10380,\n 10410,\n 10440,\n 10470,\n 10500,\n 10530,\n 10560,\n 10590,\n 10620,\n 10650,\n 10680,\n 10710,\n 10740,\n 10770,\n 10800,\n 10830,\n 10860,\n 10890,\n 10920,\n 10950,\n 10980,\n 11010,\n 11040,\n 11070,\n 11100,\n 11130,\n 11160,\n 11190,\n 11220,\n 11250,\n 11280,\n 11310,\n 11340,\n 11370,\n 11400,\n 11430,\n 11460,\n 11490,\n 11520,\n 11550,\n 11580,\n 11610,\n 11640,\n 11670,\n 11700,\n 11730,\n 11760,\n 11790,\n 11820,\n 11850,\n 11880,\n 11910,\n 11940,\n 11970,\n 12000,\n 12030,\n 12060,\n 12090,\n 12120,\n 12150,\n 12180,\n 12210,\n 12240,\n 12270,\n 12300,\n 12330,\n 12360,\n 12390,\n 12420,\n 12450,\n 12480,\n 12510,\n 12540,\n 12570,\n 12600,\n 12630,\n 12660,\n 12690,\n 12720,\n 12750,\n 12780,\n 12810,\n 12840,\n 12870,\n 12900,\n 12930,\n 12960,\n 12990,\n 13020,\n 13050,\n 13080,\n 13110,\n 13140,\n 13170,\n 13200,\n 13230,\n 13260,\n 13290,\n 13320,\n 13350,\n 13380,\n 13410,\n 13440,\n 13470,\n 13500,\n 13530,\n 13560,\n 13590,\n 13620,\n 13650,\n 13680,\n 13710,\n 13740,\n 13770,\n 13800,\n 13830,\n 13860,\n 13890,\n 13920,\n 13950,\n 13980,\n 14010,\n 14040,\n 14070,\n 14100,\n 14130,\n 14160,\n 14190,\n 14220,\n 14250,\n 14280,\n 14310,\n 14340,\n 14370,\n 14400,\n 14430,\n 14460,\n 14490,\n 14520,\n 14550,\n 14580,\n 14610,\n 14640,\n 14670,\n 14700,\n 14730,\n 14760,\n 14790,\n 14820,\n 14850,\n 14880,\n 14910,\n 14940,\n 14970,\n 15000,\n 15030,\n 15060,\n 15090,\n 15120,\n 15150,\n 15180,\n 15210,\n 15240,\n 15270,\n 15300,\n 15330,\n 15360,\n 15390,\n 15420,\n 15450,\n 15480,\n 15510,\n 15540,\n 15570,\n 15600,\n 15630,\n 15660,\n 15690,\n 15720,\n 15750,\n 15780,\n 15810,\n 15840,\n 15870,\n 15900,\n 15930,\n 15960,\n 15990,\n 16020,\n 16050,\n 16080,\n 16110,\n 16140,\n 16170,\n 16200,\n 16230,\n 16260,\n 16290,\n 16320,\n 16350,\n 16380,\n 16410,\n 16440,\n 16470,\n 16500,\n 16530,\n 16560,\n 16590,\n 16620,\n 16650,\n 16680,\n 16710,\n 16740,\n 16770,\n 16800,\n 16830,\n 16860,\n 16890,\n 16920,\n 16950,\n 16980,\n 17010,\n 17040,\n 17070,\n 17100,\n 17130,\n 17160,\n 17190,\n 17220,\n 17250,\n 17280,\n 17310,\n 17340,\n 17370,\n 17400,\n 17430,\n 17460,\n 17490,\n 17520,\n 17550,\n 17580,\n 17610,\n 17640,\n 17670,\n 17700,\n 17730,\n 17760,\n 17790,\n 17820,\n 17850,\n 17880,\n 17910,\n 17940,\n 17970,\n 18000,\n 18030,\n 18060,\n 18090,\n 18120,\n 18150,\n 18180,\n 18210,\n 18240,\n 18270,\n 18300,\n 18330,\n 18360,\n 18390,\n 18420,\n 18450,\n 18480,\n 18510,\n 18540,\n 18570,\n 18600,\n 18630,\n 18660,\n 18690,\n 18720,\n 18750,\n 18780,\n 18810,\n 18840,\n 18870,\n 18900,\n 18930,\n 18960,\n 18990,\n 19020,\n 19050,\n 19080,\n 19110,\n 19140,\n 19170,\n 19200,\n 19230,\n 19260,\n 19290,\n 19320,\n 19350,\n 19380,\n 19410,\n 19440,\n 19470,\n 19500,\n 19530,\n 19560,\n 19590,\n 19620,\n 19650,\n 19680,\n 19710,\n 19740,\n 19770,\n 19800,\n 19830,\n 19860,\n 19890,\n 19920,\n 19950,\n 19980,\n 20010,\n 20040,\n 20070,\n 20100,\n 20130,\n 20160,\n 20190,\n 20220,\n 20250,\n 20280,\n 20310,\n 20340,\n 20370,\n 20400,\n 20430,\n 20460,\n 20490,\n 20520,\n 20550,\n 20580,\n 20610,\n 20640,\n 20670,\n 20700,\n 20730,\n 20760,\n 20790,\n 20820,\n 20850,\n 20880,\n 20910,\n 20940,\n 20970,\n 21000,\n 21030,\n 21060,\n 21090,\n 21120,\n 21150,\n 21180,\n 21210,\n 21240,\n 21270,\n 21300,\n 21330,\n 21360,\n 21390,\n 21420,\n 21450,\n 21480,\n 21510,\n 21540,\n 21570,\n 21600,\n 21630,\n 21660,\n 21690,\n 21720,\n 21750,\n 21780,\n 21810,\n 21840,\n 21870,\n 21900,\n 21930,\n 21960,\n 21990,\n 22020,\n 22050,\n 22080,\n 22110,\n 22140,\n 22170,\n 22200,\n 22230,\n 22260,\n 22290,\n 22320,\n 22350,\n 22380,\n 22410,\n 22440,\n 22470,\n 22500,\n 22530,\n 22560,\n 22590,\n 22620,\n 22650,\n 22680,\n 22710,\n 22740,\n 22770,\n 22800,\n 22830,\n 22860,\n 22890,\n 22920,\n 22950,\n 22980,\n 23010,\n 23040,\n 23070,\n 23100,\n 23130,\n 23160,\n 23190,\n 23220,\n 23250,\n 23280,\n 23310,\n 23340,\n 23370,\n 23400,\n 23430,\n 23460,\n 23490,\n 23520,\n 23550,\n 23580,\n 23610,\n 23640,\n 23670,\n 23700,\n 23730,\n 23760,\n 23790,\n 23820,\n 23850,\n 23880,\n 23910,\n 23940,\n 23970,\n 24000,\n 24030,\n 24060,\n 24090,\n 24120,\n 24150,\n 24180,\n 24210,\n 24240,\n 24270,\n 24300,\n 24330,\n 24360,\n 24390,\n 24420,\n 24450,\n 24480,\n 24510,\n 24540,\n 24570,\n 24600,\n 24630,\n 24660,\n 24690,\n 24720,\n 24750,\n 24780,\n 24810,\n 24840,\n 24870,\n 24900,\n 24930,\n 24960,\n 24990,\n 25020,\n 25050,\n 25080,\n 25110,\n 25140,\n 25170,\n 25200,\n 25230,\n 25260,\n 25290,\n 25320,\n 25350,\n 25380,\n 25410,\n 25440,\n 25470,\n 25500,\n 25530,\n 25560,\n 25590,\n 25620,\n 25650,\n 25680,\n 25710,\n 25740,\n 25770,\n 25800,\n 25830,\n 25860,\n 25890,\n 25920,\n 25950,\n 25980,\n 26010,\n 26040,\n 26070,\n 26100,\n 26130,\n 26160,\n 26190,\n 26220,\n 26250,\n 26280,\n 26310,\n 26340,\n 26370,\n 26400,\n 26430,\n 26460,\n 26490,\n 26520,\n 26550,\n 26580,\n 26610,\n 26640,\n 26670,\n 26700,\n 26730,\n 26760,\n 26790,\n 26820,\n 26850,\n 26880,\n 26910,\n 26940,\n 26970,\n 27000,\n 27030,\n 27060,\n 27090,\n 27120,\n 27150,\n 27180,\n 27210,\n 27240,\n 27270,\n 27300,\n 27330,\n 27360,\n 27390,\n 27420,\n 27450,\n 27480,\n 27510,\n 27540,\n 27570,\n 27600,\n 27630,\n 27660,\n 27690,\n 27720,\n 27750,\n 27780,\n 27810,\n 27840,\n 27870,\n 27900,\n 27930,\n 27960,\n 27990,\n 28020,\n 28050,\n 28080,\n 28110,\n 28140,\n 28170,\n 28200,\n 28230,\n 28260,\n 28290,\n 28320,\n 28350,\n 28380,\n 28410,\n 28440,\n 28470,\n 28500,\n 28530,\n 28560,\n 28590,\n 28620,\n 28650,\n 28680,\n 28710,\n 28740,\n 28770,\n 28800,\n 28830,\n 28860,\n 28890,\n 28920,\n 28950,\n 28980,\n 29010,\n 29040,\n 29070,\n 29100,\n 29130,\n 29160,\n 29190,\n 29220,\n 29250,\n 29280,\n 29310,\n 29340,\n 29370,\n 29400,\n 29430,\n 29460,\n 29490,\n 29520,\n 29550,\n 29580,\n 29610,\n 29640,\n 29670,\n 29700,\n 29730,\n 29760,\n 29790,\n 29820,\n 29850,\n 29880,\n 29910,\n 29940,\n 29970,\n ...]"
     },
     "execution_count": 6,
     "metadata": {},
     "output_type": "execute_result"
    }
   ],
   "source": [
    "indexes = [i for i in range(0, len(df)) if i % (30) == 0]\n",
    "indexes"
   ],
   "metadata": {
    "collapsed": false,
    "pycharm": {
     "name": "#%%\n"
    }
   }
  },
  {
   "cell_type": "code",
   "execution_count": 7,
   "outputs": [
    {
     "data": {
      "text/plain": "         Unix Timestamp                 Date  Symbol      Open      High  \\\n1871730   1559347800000  2019-06-01 00:10:00  BTCUSD   8516.20   8516.20   \n1871760   1559349600000  2019-06-01 00:40:00  BTCUSD   8516.20   8516.20   \n1871790   1559351400000  2019-06-01 01:10:00  BTCUSD   8516.20   8516.20   \n1871820   1559353200000  2019-06-01 01:40:00  BTCUSD   8516.20   8516.20   \n1871850   1559355000000  2019-06-01 02:10:00  BTCUSD   8516.20   8516.20   \n...                 ...                  ...     ...       ...       ...   \n3134280   1638653820000  2021-12-04 21:37:00  BTCUSD  48916.50  48945.69   \n3134310   1638655620000  2021-12-04 22:07:00  BTCUSD  48705.18  48740.92   \n3134340   1638657420000  2021-12-04 22:37:00  BTCUSD  49133.94  49133.94   \n3134370   1638659220000  2021-12-04 23:07:00  BTCUSD  49411.09  49517.02   \n3134400   1638661020000  2021-12-04 23:37:00  BTCUSD  49172.79  49185.60   \n\n              Low     Close    Volume     RSI_14      SMA_50  MACD_12_26_9  \n1871730   8516.20   8516.20  0.000000  87.636197   8310.7898     65.091441  \n1871760   8516.20   8516.20  0.000000  87.636197   8456.2454     12.909937  \n1871790   8516.20   8516.20  0.000000  87.636197   8516.2000      1.325855  \n1871820   8516.20   8516.20  0.000000  87.636197   8516.2000      0.132046  \n1871850   8516.20   8516.20  0.000000  87.636197   8516.2000      0.013124  \n...           ...       ...       ...        ...         ...           ...  \n3134280  48908.45  48945.69  0.081272  46.588652  49098.2736    -53.481470  \n3134310  48705.18  48738.07  0.580081  45.390891  48840.8440    -34.973777  \n3134340  49059.62  49059.62  0.412475  59.558635  48814.4160     93.711965  \n3134370  49390.61  49484.96  4.048899  70.044854  49056.9276    107.848213  \n3134400  49115.83  49185.60  0.671487  51.789792  49217.8908    -34.862123  \n\n[42090 rows x 11 columns]",
      "text/html": "<div>\n<style scoped>\n    .dataframe tbody tr th:only-of-type {\n        vertical-align: middle;\n    }\n\n    .dataframe tbody tr th {\n        vertical-align: top;\n    }\n\n    .dataframe thead th {\n        text-align: right;\n    }\n</style>\n<table border=\"1\" class=\"dataframe\">\n  <thead>\n    <tr style=\"text-align: right;\">\n      <th></th>\n      <th>Unix Timestamp</th>\n      <th>Date</th>\n      <th>Symbol</th>\n      <th>Open</th>\n      <th>High</th>\n      <th>Low</th>\n      <th>Close</th>\n      <th>Volume</th>\n      <th>RSI_14</th>\n      <th>SMA_50</th>\n      <th>MACD_12_26_9</th>\n    </tr>\n  </thead>\n  <tbody>\n    <tr>\n      <th>1871730</th>\n      <td>1559347800000</td>\n      <td>2019-06-01 00:10:00</td>\n      <td>BTCUSD</td>\n      <td>8516.20</td>\n      <td>8516.20</td>\n      <td>8516.20</td>\n      <td>8516.20</td>\n      <td>0.000000</td>\n      <td>87.636197</td>\n      <td>8310.7898</td>\n      <td>65.091441</td>\n    </tr>\n    <tr>\n      <th>1871760</th>\n      <td>1559349600000</td>\n      <td>2019-06-01 00:40:00</td>\n      <td>BTCUSD</td>\n      <td>8516.20</td>\n      <td>8516.20</td>\n      <td>8516.20</td>\n      <td>8516.20</td>\n      <td>0.000000</td>\n      <td>87.636197</td>\n      <td>8456.2454</td>\n      <td>12.909937</td>\n    </tr>\n    <tr>\n      <th>1871790</th>\n      <td>1559351400000</td>\n      <td>2019-06-01 01:10:00</td>\n      <td>BTCUSD</td>\n      <td>8516.20</td>\n      <td>8516.20</td>\n      <td>8516.20</td>\n      <td>8516.20</td>\n      <td>0.000000</td>\n      <td>87.636197</td>\n      <td>8516.2000</td>\n      <td>1.325855</td>\n    </tr>\n    <tr>\n      <th>1871820</th>\n      <td>1559353200000</td>\n      <td>2019-06-01 01:40:00</td>\n      <td>BTCUSD</td>\n      <td>8516.20</td>\n      <td>8516.20</td>\n      <td>8516.20</td>\n      <td>8516.20</td>\n      <td>0.000000</td>\n      <td>87.636197</td>\n      <td>8516.2000</td>\n      <td>0.132046</td>\n    </tr>\n    <tr>\n      <th>1871850</th>\n      <td>1559355000000</td>\n      <td>2019-06-01 02:10:00</td>\n      <td>BTCUSD</td>\n      <td>8516.20</td>\n      <td>8516.20</td>\n      <td>8516.20</td>\n      <td>8516.20</td>\n      <td>0.000000</td>\n      <td>87.636197</td>\n      <td>8516.2000</td>\n      <td>0.013124</td>\n    </tr>\n    <tr>\n      <th>...</th>\n      <td>...</td>\n      <td>...</td>\n      <td>...</td>\n      <td>...</td>\n      <td>...</td>\n      <td>...</td>\n      <td>...</td>\n      <td>...</td>\n      <td>...</td>\n      <td>...</td>\n      <td>...</td>\n    </tr>\n    <tr>\n      <th>3134280</th>\n      <td>1638653820000</td>\n      <td>2021-12-04 21:37:00</td>\n      <td>BTCUSD</td>\n      <td>48916.50</td>\n      <td>48945.69</td>\n      <td>48908.45</td>\n      <td>48945.69</td>\n      <td>0.081272</td>\n      <td>46.588652</td>\n      <td>49098.2736</td>\n      <td>-53.481470</td>\n    </tr>\n    <tr>\n      <th>3134310</th>\n      <td>1638655620000</td>\n      <td>2021-12-04 22:07:00</td>\n      <td>BTCUSD</td>\n      <td>48705.18</td>\n      <td>48740.92</td>\n      <td>48705.18</td>\n      <td>48738.07</td>\n      <td>0.580081</td>\n      <td>45.390891</td>\n      <td>48840.8440</td>\n      <td>-34.973777</td>\n    </tr>\n    <tr>\n      <th>3134340</th>\n      <td>1638657420000</td>\n      <td>2021-12-04 22:37:00</td>\n      <td>BTCUSD</td>\n      <td>49133.94</td>\n      <td>49133.94</td>\n      <td>49059.62</td>\n      <td>49059.62</td>\n      <td>0.412475</td>\n      <td>59.558635</td>\n      <td>48814.4160</td>\n      <td>93.711965</td>\n    </tr>\n    <tr>\n      <th>3134370</th>\n      <td>1638659220000</td>\n      <td>2021-12-04 23:07:00</td>\n      <td>BTCUSD</td>\n      <td>49411.09</td>\n      <td>49517.02</td>\n      <td>49390.61</td>\n      <td>49484.96</td>\n      <td>4.048899</td>\n      <td>70.044854</td>\n      <td>49056.9276</td>\n      <td>107.848213</td>\n    </tr>\n    <tr>\n      <th>3134400</th>\n      <td>1638661020000</td>\n      <td>2021-12-04 23:37:00</td>\n      <td>BTCUSD</td>\n      <td>49172.79</td>\n      <td>49185.60</td>\n      <td>49115.83</td>\n      <td>49185.60</td>\n      <td>0.671487</td>\n      <td>51.789792</td>\n      <td>49217.8908</td>\n      <td>-34.862123</td>\n    </tr>\n  </tbody>\n</table>\n<p>42090 rows × 11 columns</p>\n</div>"
     },
     "execution_count": 7,
     "metadata": {},
     "output_type": "execute_result"
    }
   ],
   "source": [
    "temp = df.iloc[indexes]\n",
    "temp = temp.loc[df['Date'] > '2019-06-01 00:00:00']\n",
    "df = temp\n",
    "df"
   ],
   "metadata": {
    "collapsed": false,
    "pycharm": {
     "name": "#%%\n"
    }
   }
  },
  {
   "cell_type": "code",
   "execution_count": 8,
   "outputs": [
    {
     "data": {
      "text/plain": "            Close\n1871730   8516.20\n1871760   8516.20\n1871790   8516.20\n1871820   8516.20\n1871850   8516.20\n...           ...\n3134280  48945.69\n3134310  48738.07\n3134340  49059.62\n3134370  49484.96\n3134400  49185.60\n\n[42090 rows x 1 columns]",
      "text/html": "<div>\n<style scoped>\n    .dataframe tbody tr th:only-of-type {\n        vertical-align: middle;\n    }\n\n    .dataframe tbody tr th {\n        vertical-align: top;\n    }\n\n    .dataframe thead th {\n        text-align: right;\n    }\n</style>\n<table border=\"1\" class=\"dataframe\">\n  <thead>\n    <tr style=\"text-align: right;\">\n      <th></th>\n      <th>Close</th>\n    </tr>\n  </thead>\n  <tbody>\n    <tr>\n      <th>1871730</th>\n      <td>8516.20</td>\n    </tr>\n    <tr>\n      <th>1871760</th>\n      <td>8516.20</td>\n    </tr>\n    <tr>\n      <th>1871790</th>\n      <td>8516.20</td>\n    </tr>\n    <tr>\n      <th>1871820</th>\n      <td>8516.20</td>\n    </tr>\n    <tr>\n      <th>1871850</th>\n      <td>8516.20</td>\n    </tr>\n    <tr>\n      <th>...</th>\n      <td>...</td>\n    </tr>\n    <tr>\n      <th>3134280</th>\n      <td>48945.69</td>\n    </tr>\n    <tr>\n      <th>3134310</th>\n      <td>48738.07</td>\n    </tr>\n    <tr>\n      <th>3134340</th>\n      <td>49059.62</td>\n    </tr>\n    <tr>\n      <th>3134370</th>\n      <td>49484.96</td>\n    </tr>\n    <tr>\n      <th>3134400</th>\n      <td>49185.60</td>\n    </tr>\n  </tbody>\n</table>\n<p>42090 rows × 1 columns</p>\n</div>"
     },
     "execution_count": 8,
     "metadata": {},
     "output_type": "execute_result"
    }
   ],
   "source": [
    "important_columns = ['Close'] #modify this to add other columns like RSI, Moving Average etc\n",
    "important_data = df[important_columns]\n",
    "important_data"
   ],
   "metadata": {
    "collapsed": false,
    "pycharm": {
     "name": "#%%\n"
    }
   }
  },
  {
   "cell_type": "markdown",
   "source": [
    "Processing the data to make for training"
   ],
   "metadata": {
    "collapsed": false
   }
  },
  {
   "cell_type": "code",
   "execution_count": 9,
   "outputs": [
    {
     "data": {
      "text/plain": "array([[0.0704717 ],\n       [0.0704717 ],\n       [0.0704717 ],\n       ...,\n       [0.7389783 ],\n       [0.7459916 ],\n       [0.74105555]], dtype=float32)"
     },
     "execution_count": 9,
     "metadata": {},
     "output_type": "execute_result"
    }
   ],
   "source": [
    "data_values = important_data['Close'].astype('float32')\n",
    "train_scl = data_values[0:int(len(data_values) * 0.80)]\n",
    "scl = MinMaxScaler()\n",
    "\n",
    "scl.fit(train_scl.values.reshape(-1, 1))\n",
    "data_values = scl.transform(data_values.values.reshape(-1, 1))\n",
    "data_values"
   ],
   "metadata": {
    "collapsed": false,
    "pycharm": {
     "name": "#%%\n"
    }
   }
  },
  {
   "cell_type": "code",
   "execution_count": 10,
   "outputs": [],
   "source": [
    "def process_data(data,lb):\n",
    "    X,Y = [],[]\n",
    "    for i in range(len(data)-lb-steps_in_the_future):\n",
    "        X.append(data[i:(i+lb),0])\n",
    "        Y.append(data[(i+lb):(i+lb+steps_in_the_future),0])\n",
    "    return np.array(X),np.array(Y)\n",
    "\n",
    "lb = 50\n",
    "X, Y = process_data(data_values, lb)\n",
    "split = 80 # how much should it be used for training and how much for testing?\n",
    "X_train, X_test = X[:int(X.shape[0]*split)],X[int(X.shape[0]*split):]\n",
    "Y_train, Y_test = Y[:int(Y.shape[0]*split)],Y[int(Y.shape[0]*split):]\n",
    "# X_test = X\n",
    "# Y_test = Y\n",
    "# X_test_all = np.copy(X_test)\n",
    "# X_test = X[0]\n",
    "# X_test = np.atleast_2d(X_test)\n",
    "# X_test"
   ],
   "metadata": {
    "collapsed": false,
    "pycharm": {
     "name": "#%%\n"
    }
   }
  },
  {
   "cell_type": "markdown",
   "source": [
    "Building the model"
   ],
   "metadata": {
    "collapsed": false
   }
  },
  {
   "cell_type": "code",
   "execution_count": 11,
   "outputs": [],
   "source": [
    "# model = Sequential()\n",
    "# model.add(LSTM(units = 50, activation = 'relu', return_sequences = True, input_shape = (lb, 1)))\n",
    "# model.add(Dropout(0.2))\n",
    "# model.add(LSTM(units = 60, activation = 'relu', return_sequences = True))\n",
    "# model.add(Dropout(0.3))\n",
    "# model.add(LSTM(units = 80, activation = 'relu', return_sequences = True))\n",
    "# model.add(Dropout(0.4))\n",
    "# model.add(LSTM(units = 120, activation = 'relu'))\n",
    "# model.add(Dropout(0.5))\n",
    "# model.add(Dense(units =1))\n",
    "# model.compile(loss='mse')\n",
    "\n",
    "# model = Sequential()\n",
    "# model.add(LSTM(units=50, activation='tanh', input_shape=(lb, 1), return_sequences=False))\n",
    "# model.add(Dropout(0.8))\n",
    "# # model.add(LSTM(units=60, activation='tanh', return_sequences=False))\n",
    "# # model.add(Dropout(0.8))\n",
    "# model.add(Dense(1))\n",
    "# model.add(LeakyReLU())\n",
    "# model.compile(optimizer=Adam(), loss='mse')\n",
    "\n",
    "model = Sequential()\n",
    "model.add(LSTM(units=96, return_sequences=True, input_shape=(lb, 1)))\n",
    "model.add(Dropout(0.2))\n",
    "model.add(LSTM(units=96, return_sequences=True))\n",
    "model.add(Dropout(0.2))\n",
    "model.add(LSTM(units=96, return_sequences=True))\n",
    "model.add(Dropout(0.2))\n",
    "model.add(LSTM(units=96))\n",
    "model.add(Dropout(0.2))\n",
    "model.add(Dense(units=steps_in_the_future))\n",
    "model.compile(loss='mean_squared_error', optimizer='adam')"
   ],
   "metadata": {
    "collapsed": false,
    "pycharm": {
     "name": "#%%\n"
    }
   }
  },
  {
   "cell_type": "code",
   "execution_count": 13,
   "outputs": [],
   "source": [
    "X_train = X_train.reshape((X_train.shape[0],X_train.shape[1],1))\n",
    "# X_test_reshaped = X_test.reshape((X_test.shape[0],X_test.shape[1],1))"
   ],
   "metadata": {
    "collapsed": false,
    "pycharm": {
     "name": "#%%\n"
    }
   }
  },
  {
   "cell_type": "code",
   "execution_count": 14,
   "outputs": [
    {
     "name": "stdout",
     "output_type": "stream",
     "text": [
      "Epoch 1/50\n",
      "1313/1313 [==============================] - 239s 168ms/step - loss: 0.0016\n",
      "Epoch 2/50\n",
      "1313/1313 [==============================] - 221s 168ms/step - loss: 0.0046\n",
      "Epoch 3/50\n",
      "1313/1313 [==============================] - 249s 189ms/step - loss: 0.0074\n",
      "Epoch 4/50\n",
      "1313/1313 [==============================] - 211s 161ms/step - loss: 0.0063\n",
      "Epoch 5/50\n",
      "1313/1313 [==============================] - 207s 158ms/step - loss: 0.0053\n",
      "Epoch 6/50\n",
      "1313/1313 [==============================] - 201s 153ms/step - loss: 0.0070\n",
      "Epoch 7/50\n",
      "1313/1313 [==============================] - 217s 165ms/step - loss: 0.0068\n",
      "Epoch 8/50\n",
      "1313/1313 [==============================] - 203s 155ms/step - loss: 0.0059\n",
      "Epoch 9/50\n",
      "1313/1313 [==============================] - 203s 155ms/step - loss: 0.0064\n",
      "Epoch 10/50\n",
      "1313/1313 [==============================] - 206s 157ms/step - loss: 0.0068\n",
      "Epoch 11/50\n",
      "1313/1313 [==============================] - 207s 158ms/step - loss: 0.0066\n",
      "Epoch 12/50\n",
      "1313/1313 [==============================] - 204s 156ms/step - loss: 0.0075\n",
      "Epoch 13/50\n",
      "1313/1313 [==============================] - 205s 156ms/step - loss: 0.0061\n",
      "Epoch 14/50\n",
      "1313/1313 [==============================] - 206s 157ms/step - loss: 0.0066\n",
      "Epoch 15/50\n",
      "1313/1313 [==============================] - 207s 157ms/step - loss: 0.0074\n",
      "Epoch 16/50\n",
      "1313/1313 [==============================] - 209s 160ms/step - loss: 0.0075\n",
      "Epoch 17/50\n",
      "1313/1313 [==============================] - 209s 159ms/step - loss: 0.0084\n",
      "Epoch 18/50\n",
      "1313/1313 [==============================] - 210s 160ms/step - loss: 0.0085\n",
      "Epoch 19/50\n",
      "1313/1313 [==============================] - 220s 168ms/step - loss: 0.0077\n",
      "Epoch 20/50\n",
      "1313/1313 [==============================] - 211s 160ms/step - loss: 0.0072\n",
      "Epoch 21/50\n",
      "1313/1313 [==============================] - 209s 159ms/step - loss: 0.0067\n",
      "Epoch 22/50\n",
      "1313/1313 [==============================] - 212s 162ms/step - loss: 0.0075\n",
      "Epoch 23/50\n",
      "1313/1313 [==============================] - 209s 159ms/step - loss: 0.0086\n",
      "Epoch 24/50\n",
      "1313/1313 [==============================] - 209s 159ms/step - loss: 0.0070\n",
      "Epoch 25/50\n",
      "1313/1313 [==============================] - 209s 159ms/step - loss: 0.0071\n",
      "Epoch 26/50\n",
      "1313/1313 [==============================] - 203s 155ms/step - loss: 0.0072\n",
      "Epoch 27/50\n",
      "1313/1313 [==============================] - 201s 153ms/step - loss: 0.0071\n",
      "Epoch 28/50\n",
      "1313/1313 [==============================] - 202s 154ms/step - loss: 0.0068\n",
      "Epoch 29/50\n",
      "1313/1313 [==============================] - 205s 156ms/step - loss: 0.0076\n",
      "Epoch 30/50\n",
      "1313/1313 [==============================] - 206s 157ms/step - loss: 0.0070\n",
      "Epoch 31/50\n",
      "1313/1313 [==============================] - 206s 157ms/step - loss: 0.0082\n",
      "Epoch 32/50\n",
      "1313/1313 [==============================] - 203s 155ms/step - loss: 0.0066\n",
      "Epoch 33/50\n",
      "1313/1313 [==============================] - 202s 153ms/step - loss: 0.0076\n",
      "Epoch 34/50\n",
      "1313/1313 [==============================] - 202s 154ms/step - loss: 0.0076\n",
      "Epoch 35/50\n",
      "1313/1313 [==============================] - 206s 157ms/step - loss: 0.0074\n",
      "Epoch 36/50\n",
      "1313/1313 [==============================] - 215s 164ms/step - loss: 0.0072\n",
      "Epoch 37/50\n",
      "1313/1313 [==============================] - 204s 155ms/step - loss: 0.0072\n",
      "Epoch 38/50\n",
      "1313/1313 [==============================] - 202s 154ms/step - loss: 0.0070\n",
      "Epoch 39/50\n",
      "1313/1313 [==============================] - 201s 153ms/step - loss: 0.0069\n",
      "Epoch 40/50\n",
      "1313/1313 [==============================] - 190s 145ms/step - loss: 0.0083\n",
      "Epoch 41/50\n",
      "1313/1313 [==============================] - 180s 137ms/step - loss: 0.0084\n",
      "Epoch 42/50\n",
      "1313/1313 [==============================] - 178s 135ms/step - loss: 0.0071\n",
      "Epoch 43/50\n",
      "1313/1313 [==============================] - 179s 136ms/step - loss: 0.0076\n",
      "Epoch 44/50\n",
      "1313/1313 [==============================] - 178s 136ms/step - loss: 0.0071\n",
      "Epoch 45/50\n",
      "1313/1313 [==============================] - 180s 137ms/step - loss: 0.0062\n",
      "Epoch 46/50\n",
      "1313/1313 [==============================] - 179s 136ms/step - loss: 0.0074\n",
      "Epoch 47/50\n",
      "1313/1313 [==============================] - 179s 136ms/step - loss: 0.0079\n",
      "Epoch 48/50\n",
      "1313/1313 [==============================] - 178s 136ms/step - loss: 0.0096\n",
      "Epoch 49/50\n",
      "1313/1313 [==============================] - 180s 137ms/step - loss: 0.0116\n",
      "Epoch 50/50\n",
      "1313/1313 [==============================] - 181s 138ms/step - loss: 0.0116\n"
     ]
    },
    {
     "name": "stderr",
     "output_type": "stream",
     "text": [
      "WARNING:absl:Found untraced functions such as lstm_cell_layer_call_fn, lstm_cell_layer_call_and_return_conditional_losses, lstm_cell_1_layer_call_fn, lstm_cell_1_layer_call_and_return_conditional_losses, lstm_cell_2_layer_call_fn while saving (showing 5 of 20). These functions will not be directly callable after loading.\n"
     ]
    },
    {
     "name": "stdout",
     "output_type": "stream",
     "text": [
      "INFO:tensorflow:Assets written to: Models\\model2\\assets\n"
     ]
    },
    {
     "name": "stderr",
     "output_type": "stream",
     "text": [
      "INFO:tensorflow:Assets written to: Models\\model2\\assets\n",
      "WARNING:absl:<keras.layers.recurrent.LSTMCell object at 0x000001D34EB7F4C0> has the same name 'LSTMCell' as a built-in Keras object. Consider renaming <class 'keras.layers.recurrent.LSTMCell'> to avoid naming conflicts when loading with `tf.keras.models.load_model`. If renaming is not possible, pass the object in the `custom_objects` parameter of the load function.\n",
      "WARNING:absl:<keras.layers.recurrent.LSTMCell object at 0x000001D325CB88B0> has the same name 'LSTMCell' as a built-in Keras object. Consider renaming <class 'keras.layers.recurrent.LSTMCell'> to avoid naming conflicts when loading with `tf.keras.models.load_model`. If renaming is not possible, pass the object in the `custom_objects` parameter of the load function.\n",
      "WARNING:absl:<keras.layers.recurrent.LSTMCell object at 0x000001D3245B3520> has the same name 'LSTMCell' as a built-in Keras object. Consider renaming <class 'keras.layers.recurrent.LSTMCell'> to avoid naming conflicts when loading with `tf.keras.models.load_model`. If renaming is not possible, pass the object in the `custom_objects` parameter of the load function.\n",
      "WARNING:absl:<keras.layers.recurrent.LSTMCell object at 0x000001D3245CE5B0> has the same name 'LSTMCell' as a built-in Keras object. Consider renaming <class 'keras.layers.recurrent.LSTMCell'> to avoid naming conflicts when loading with `tf.keras.models.load_model`. If renaming is not possible, pass the object in the `custom_objects` parameter of the load function.\n"
     ]
    },
    {
     "name": "stdout",
     "output_type": "stream",
     "text": [
      "Model: \"sequential\"\n",
      "_________________________________________________________________\n",
      " Layer (type)                Output Shape              Param #   \n",
      "=================================================================\n",
      " lstm (LSTM)                 (None, 50, 96)            37632     \n",
      "                                                                 \n",
      " dropout (Dropout)           (None, 50, 96)            0         \n",
      "                                                                 \n",
      " lstm_1 (LSTM)               (None, 50, 96)            74112     \n",
      "                                                                 \n",
      " dropout_1 (Dropout)         (None, 50, 96)            0         \n",
      "                                                                 \n",
      " lstm_2 (LSTM)               (None, 50, 96)            74112     \n",
      "                                                                 \n",
      " dropout_2 (Dropout)         (None, 50, 96)            0         \n",
      "                                                                 \n",
      " lstm_3 (LSTM)               (None, 96)                74112     \n",
      "                                                                 \n",
      " dropout_3 (Dropout)         (None, 96)                0         \n",
      "                                                                 \n",
      " dense (Dense)               (None, 50)                4850      \n",
      "                                                                 \n",
      "=================================================================\n",
      "Total params: 264,818\n",
      "Trainable params: 264,818\n",
      "Non-trainable params: 0\n",
      "_________________________________________________________________\n"
     ]
    }
   ],
   "source": [
    "history = model.fit(X_train,Y_train,epochs=50,validation_data=(X_test,Y_test),shuffle=False)\n",
    "\n",
    "model.save('Models\\\\model2')\n",
    "model.summary()"
   ],
   "metadata": {
    "collapsed": false,
    "pycharm": {
     "name": "#%%\n"
    }
   }
  },
  {
   "cell_type": "code",
   "execution_count": 10,
   "outputs": [
    {
     "ename": "NameError",
     "evalue": "name 'model' is not defined",
     "output_type": "error",
     "traceback": [
      "\u001B[1;31m---------------------------------------------------------------------------\u001B[0m",
      "\u001B[1;31mNameError\u001B[0m                                 Traceback (most recent call last)",
      "\u001B[1;32m~\\AppData\\Local\\Temp/ipykernel_17728/2588026174.py\u001B[0m in \u001B[0;36m<module>\u001B[1;34m\u001B[0m\n\u001B[0;32m      1\u001B[0m \u001B[0mplt\u001B[0m\u001B[1;33m.\u001B[0m\u001B[0mfigure\u001B[0m\u001B[1;33m(\u001B[0m\u001B[0mfigsize\u001B[0m\u001B[1;33m=\u001B[0m\u001B[1;33m(\u001B[0m\u001B[1;36m12\u001B[0m\u001B[1;33m,\u001B[0m\u001B[1;36m8\u001B[0m\u001B[1;33m)\u001B[0m\u001B[1;33m)\u001B[0m\u001B[1;33m\u001B[0m\u001B[1;33m\u001B[0m\u001B[0m\n\u001B[0;32m      2\u001B[0m \u001B[1;33m\u001B[0m\u001B[0m\n\u001B[1;32m----> 3\u001B[1;33m \u001B[0mXt\u001B[0m \u001B[1;33m=\u001B[0m \u001B[0mmodel\u001B[0m\u001B[1;33m.\u001B[0m\u001B[0mpredict\u001B[0m\u001B[1;33m(\u001B[0m\u001B[0mX_test\u001B[0m\u001B[1;33m)\u001B[0m\u001B[1;33m\u001B[0m\u001B[1;33m\u001B[0m\u001B[0m\n\u001B[0m\u001B[0;32m      4\u001B[0m \u001B[0mplt\u001B[0m\u001B[1;33m.\u001B[0m\u001B[0mplot\u001B[0m\u001B[1;33m(\u001B[0m\u001B[0mscl\u001B[0m\u001B[1;33m.\u001B[0m\u001B[0minverse_transform\u001B[0m\u001B[1;33m(\u001B[0m\u001B[0mY_test\u001B[0m\u001B[1;33m.\u001B[0m\u001B[0mreshape\u001B[0m\u001B[1;33m(\u001B[0m\u001B[1;33m-\u001B[0m\u001B[1;36m1\u001B[0m\u001B[1;33m,\u001B[0m\u001B[1;36m1\u001B[0m\u001B[1;33m)\u001B[0m\u001B[1;33m)\u001B[0m\u001B[1;33m,\u001B[0m \u001B[0mlabel\u001B[0m\u001B[1;33m=\u001B[0m\u001B[1;34m\"Actual\"\u001B[0m\u001B[1;33m)\u001B[0m\u001B[1;33m\u001B[0m\u001B[1;33m\u001B[0m\u001B[0m\n\u001B[0;32m      5\u001B[0m \u001B[0mplt\u001B[0m\u001B[1;33m.\u001B[0m\u001B[0mplot\u001B[0m\u001B[1;33m(\u001B[0m\u001B[0mscl\u001B[0m\u001B[1;33m.\u001B[0m\u001B[0minverse_transform\u001B[0m\u001B[1;33m(\u001B[0m\u001B[0mXt\u001B[0m\u001B[1;33m)\u001B[0m\u001B[1;33m,\u001B[0m \u001B[0mlabel\u001B[0m\u001B[1;33m=\u001B[0m\u001B[1;34m\"Predicted\"\u001B[0m\u001B[1;33m)\u001B[0m\u001B[1;33m\u001B[0m\u001B[1;33m\u001B[0m\u001B[0m\n",
      "\u001B[1;31mNameError\u001B[0m: name 'model' is not defined"
     ]
    },
    {
     "data": {
      "text/plain": "<Figure size 864x576 with 0 Axes>"
     },
     "metadata": {},
     "output_type": "display_data"
    }
   ],
   "source": [
    "plt.figure(figsize=(12,8))\n",
    "\n",
    "Xt = model.predict(X_test)\n",
    "plt.plot(scl.inverse_transform(Y_test.reshape(-1,1)), label=\"Actual\")\n",
    "plt.plot(scl.inverse_transform(Xt), label=\"Predicted\")\n",
    "plt.legend()\n",
    "plt.title(\"Train Dataset\")"
   ],
   "metadata": {
    "collapsed": false,
    "pycharm": {
     "name": "#%%\n"
    }
   }
  },
  {
   "cell_type": "code",
   "execution_count": 12,
   "outputs": [
    {
     "data": {
      "text/plain": "0.15307137"
     },
     "execution_count": 12,
     "metadata": {},
     "output_type": "execute_result"
    }
   ],
   "source": [
    "np.mean(np.abs((Xt / Y_test) - 1))"
   ],
   "metadata": {
    "collapsed": false,
    "pycharm": {
     "name": "#%%\n"
    }
   }
  },
  {
   "cell_type": "code",
   "execution_count": 13,
   "outputs": [
    {
     "name": "stdout",
     "output_type": "stream",
     "text": [
      "Mean: 0.07902240008115768\n",
      "Std: 0.04070517420768738\n",
      "Max: 0.15440315008163452\n",
      "Min: 8.791685104370117e-05\n",
      "\n"
     ]
    }
   ],
   "source": [
    "differences = np.abs((Xt.reshape((1,Xt.shape[0])) / Y_test.reshape((1,Y_test.shape[0]))) - 1)\n",
    "print(f'Mean: {np.mean(differences)}\\n'\n",
    "      f'Std: {np.std(differences)}\\n'\n",
    "      f'Max: {np.max(differences)}\\n'\n",
    "      f'Min: {np.min(differences)}\\n')"
   ],
   "metadata": {
    "collapsed": false,
    "pycharm": {
     "name": "#%%\n"
    }
   }
  },
  {
   "cell_type": "code",
   "execution_count": 44,
   "outputs": [
    {
     "data": {
      "text/plain": "array([[[0.32189322],\n        [0.2852211 ],\n        [0.26767302],\n        [0.27481604],\n        [0.27056694],\n        [0.2832694 ],\n        [0.27530193],\n        [0.29680538],\n        [0.26192474],\n        [0.27088833],\n        [0.30862665],\n        [0.29533195],\n        [0.329988  ],\n        [0.28056383],\n        [0.26733637],\n        [0.2846403 ],\n        [0.25640154],\n        [0.24003267],\n        [0.20287228],\n        [0.1976862 ],\n        [0.220613  ],\n        [0.20711088],\n        [0.22323418],\n        [0.23114204],\n        [0.17881918],\n        [0.1937375 ],\n        [0.1996026 ],\n        [0.18037271],\n        [0.25739384],\n        [0.22682047],\n        [0.22798252],\n        [0.2483468 ],\n        [0.23330307],\n        [0.2064066 ],\n        [0.21083832],\n        [0.23158932],\n        [0.23618603],\n        [0.2928524 ],\n        [0.1633234 ],\n        [0.16052675],\n        [0.18616533],\n        [0.1845479 ],\n        [0.17398071],\n        [0.17832279],\n        [0.17985725],\n        [0.18667603],\n        [0.14735174],\n        [0.10785818],\n        [0.10672569],\n        [0.127738  ]]], dtype=float32)"
     },
     "execution_count": 44,
     "metadata": {},
     "output_type": "execute_result"
    }
   ],
   "source": [
    "X_test_reshaped"
   ],
   "metadata": {
    "collapsed": false,
    "pycharm": {
     "name": "#%%\n"
    }
   }
  },
  {
   "cell_type": "code",
   "execution_count": 111,
   "outputs": [
    {
     "data": {
      "text/plain": "array([[0.14019711],\n       [0.15898001],\n       [0.14714043],\n       ...,\n       [1.0320972 ],\n       [1.0330706 ],\n       [1.0291232 ]], dtype=float32)"
     },
     "execution_count": 111,
     "metadata": {},
     "output_type": "execute_result"
    },
    {
     "data": {
      "text/plain": "<Figure size 864x576 with 0 Axes>"
     },
     "metadata": {},
     "output_type": "display_data"
    }
   ],
   "source": [
    "from keras.models import load_model\n",
    "modelBianca = load_model('Models\\\\stock_prediction.h5')\n",
    "\n",
    "plt.figure(figsize=(12,8))\n",
    "\n",
    "Xt = modelBianca.predict(X_test_all)\n",
    "Xt\n"
   ],
   "metadata": {
    "collapsed": false,
    "pycharm": {
     "name": "#%%\n"
    }
   }
  },
  {
   "cell_type": "code",
   "execution_count": 98,
   "outputs": [
    {
     "data": {
      "text/plain": "array([[0.32189322, 0.2852211 , 0.26767302, ..., 0.10785818, 0.10672569,\n        0.127738  ],\n       [0.2852211 , 0.26767302, 0.27481604, ..., 0.10672569, 0.127738  ,\n        0.1157341 ],\n       [0.26767302, 0.27481604, 0.27056694, ..., 0.127738  , 0.1157341 ,\n        0.10974932],\n       ...,\n       [1.8147864 , 1.8124213 , 1.8390603 , ..., 1.837892  , 1.8632083 ,\n        1.7889247 ],\n       [1.8124213 , 1.8390603 , 1.810617  , ..., 1.8632083 , 1.7889247 ,\n        1.824224  ],\n       [1.8390603 , 1.810617  , 1.7884622 , ..., 1.7889247 , 1.824224  ,\n        1.8445659 ]], dtype=float32)"
     },
     "execution_count": 98,
     "metadata": {},
     "output_type": "execute_result"
    }
   ],
   "source": [
    "def shift_left(array, new_value):\n",
    "    array = np.roll(array, -1)\n",
    "    array[0, array.shape[1] - 1] = new_value\n",
    "    return array\n",
    "\n",
    "Xcopy = np.copy(X_test)\n",
    "shift_left(Xcopy, 1231)\n",
    "# Xcopy.shape\n",
    "# np.roll(Xcopy, -1)\n",
    "Xcopy"
   ],
   "metadata": {
    "collapsed": false,
    "pycharm": {
     "name": "#%%\n"
    }
   }
  },
  {
   "cell_type": "code",
   "execution_count": 114,
   "outputs": [
    {
     "name": "stdout",
     "output_type": "stream",
     "text": [
      "0 / 1485\n",
      "a\n",
      "1 / 1485\n",
      "a\n",
      "2 / 1485\n",
      "a\n",
      "3 / 1485\n",
      "a\n",
      "4 / 1485\n",
      "a\n",
      "5 / 1485\n",
      "a\n",
      "6 / 1485\n",
      "a\n",
      "7 / 1485\n",
      "a\n",
      "8 / 1485\n",
      "a\n",
      "9 / 1485\n",
      "a\n",
      "10 / 1485\n",
      "a\n",
      "11 / 1485\n",
      "a\n",
      "12 / 1485\n",
      "a\n",
      "13 / 1485\n",
      "a\n",
      "14 / 1485\n",
      "a\n",
      "15 / 1485\n",
      "a\n",
      "16 / 1485\n",
      "a\n",
      "17 / 1485\n",
      "a\n",
      "18 / 1485\n",
      "a\n",
      "19 / 1485\n",
      "a\n",
      "20 / 1485\n",
      "a\n",
      "21 / 1485\n",
      "a\n",
      "22 / 1485\n",
      "a\n",
      "23 / 1485\n",
      "a\n",
      "24 / 1485\n",
      "a\n",
      "25 / 1485\n",
      "a\n",
      "26 / 1485\n",
      "a\n",
      "27 / 1485\n",
      "a\n",
      "28 / 1485\n",
      "a\n",
      "29 / 1485\n",
      "a\n",
      "30 / 1485\n",
      "a\n",
      "31 / 1485\n",
      "a\n",
      "32 / 1485\n",
      "a\n",
      "33 / 1485\n",
      "a\n",
      "34 / 1485\n",
      "a\n",
      "35 / 1485\n",
      "a\n",
      "36 / 1485\n",
      "a\n",
      "37 / 1485\n",
      "a\n",
      "38 / 1485\n",
      "a\n",
      "39 / 1485\n",
      "a\n",
      "40 / 1485\n",
      "a\n",
      "41 / 1485\n",
      "a\n",
      "42 / 1485\n",
      "a\n",
      "43 / 1485\n",
      "a\n",
      "44 / 1485\n",
      "a\n",
      "45 / 1485\n",
      "a\n",
      "46 / 1485\n",
      "a\n",
      "47 / 1485\n",
      "a\n",
      "48 / 1485\n",
      "a\n",
      "49 / 1485\n",
      "a\n"
     ]
    }
   ],
   "source": [
    "results = []\n",
    "X_test_copy = np.copy(X_test)\n",
    "for i in range(0, 50):\n",
    "    print(f'{i} / {Y_test.shape[0]}')\n",
    "    Xt = modelBianca(X_test_copy)\n",
    "    results.append(np.copy(Xt))\n",
    "    X_test_copy = shift_left(X_test_copy, Xt[0, 0])\n",
    "    print('a')\n",
    "    # X_test_reshaped = X_test_copy.reshape((X_test_copy.shape[0],X_test_copy.shape[1],1))"
   ],
   "metadata": {
    "collapsed": false,
    "pycharm": {
     "name": "#%%\n"
    }
   }
  },
  {
   "cell_type": "code",
   "execution_count": 117,
   "outputs": [],
   "source": [
    "results = np.array(results)"
   ],
   "metadata": {
    "collapsed": false,
    "pycharm": {
     "name": "#%%\n"
    }
   }
  },
  {
   "cell_type": "code",
   "execution_count": 119,
   "outputs": [],
   "source": [
    "Xt = modelBianca.predict(X_test_all)"
   ],
   "metadata": {
    "collapsed": false,
    "pycharm": {
     "name": "#%%\n"
    }
   }
  },
  {
   "cell_type": "code",
   "execution_count": 121,
   "outputs": [
    {
     "data": {
      "text/plain": "Text(0.5, 1.0, 'Train Dataset Bianca')"
     },
     "execution_count": 121,
     "metadata": {},
     "output_type": "execute_result"
    },
    {
     "data": {
      "text/plain": "<Figure size 432x288 with 1 Axes>",
      "image/png": "[encoded data removed]"
     },
     "metadata": {
      "needs_background": "light"
     },
     "output_type": "display_data"
    }
   ],
   "source": [
    "# results\n",
    "# for i in range(0, len(results)):\n",
    "#     results[i] = np.array(results[i])\n",
    "\n",
    "plt.plot(scl.inverse_transform(Y_test[:50].reshape(-1,1)), label=\"Actual\")\n",
    "plt.plot(scl.inverse_transform(results.reshape(-1,1)), label=\"Predicted_stepbystep\")\n",
    "plt.plot(scl.inverse_transform(Xt[:50].reshape(-1,1)), label=\"Predicted_all\")\n",
    "plt.legend()\n",
    "plt.title(\"Train Dataset Bianca\")"
   ],
   "metadata": {
    "collapsed": false,
    "pycharm": {
     "name": "#%%\n"
    }
   }
  },
  {
   "cell_type": "code",
   "execution_count": 97,
   "outputs": [
    {
     "data": {
      "text/plain": "(array([0.1157341 , 0.10974932, 0.1126194 , ..., 1.824224  , 1.8445659 ,\n        1.9140754 ], dtype=float32),\n array([[0.14019711],\n        [0.15898001],\n        [0.14714043],\n        ...,\n        [1.0320972 ],\n        [1.0330706 ],\n        [1.0291232 ]], dtype=float32))"
     },
     "execution_count": 97,
     "metadata": {},
     "output_type": "execute_result"
    }
   ],
   "source": [
    "Y_test, results"
   ],
   "metadata": {
    "collapsed": false,
    "pycharm": {
     "name": "#%%\n"
    }
   }
  }
 ],
 "metadata": {
  "kernelspec": {
   "display_name": "Python 3",
   "language": "python",
   "name": "python3"
  },
  "language_info": {
   "codemirror_mode": {
    "name": "ipython",
    "version": 2
   },
   "file_extension": ".py",
   "mimetype": "text/x-python",
   "name": "python",
   "nbconvert_exporter": "python",
   "pygments_lexer": "ipython2",
   "version": "2.7.6"
  }
 },
 "nbformat": 4,
 "nbformat_minor": 0
}