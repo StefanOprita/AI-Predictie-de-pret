{
 "cells": [
  {
   "cell_type": "code",
   "execution_count": 27,
   "outputs": [],
   "source": [
    "import keras\n",
    "\n",
    "from keras.models import Sequential\n",
    "from keras.layers import Dense, Activation\n",
    "from keras.layers import LSTM\n",
    "from keras.layers import Dropout\n",
    "from keras.models import model_from_json\n",
    "\n",
    "import pandas as pd\n",
    "import numpy as np\n",
    "import pandas_ta as ta\n",
    "\n",
    "from sklearn.preprocessing import MinMaxScaler\n",
    "\n",
    "import matplotlib.pyplot as plt\n",
    "\n",
    "import os\n",
    "import sys"
   ],
   "metadata": {
    "collapsed": false,
    "pycharm": {
     "name": "#%%\n"
    }
   }
  },
  {
   "cell_type": "code",
   "execution_count": 28,
   "outputs": [],
   "source": [
    "def calculate_rsi(df: pd.DataFrame, length: int = 14):\n",
    "    if not isinstance(length, int):\n",
    "        raise Exception(\"length must be an integer!\")\n",
    "    df[f'RSI_{length}'] = ta.rsi(df['Close'], length=length)\n",
    "\n",
    "def calculate_sma(df: pd.DataFrame, length: int = 50):\n",
    "    \"\"\"\n",
    "    Wrapper function for sma\n",
    "    :param df:\n",
    "    :param length:\n",
    "    :return:\n",
    "    \"\"\"\n",
    "    if not isinstance(length, int):\n",
    "        raise Exception(\"length must be an integer!\")\n",
    "    df[f'SMA_{length}'] = ta.sma(df['Close'], length=length)\n",
    "\n",
    "def calculate_macd(df: pd.DataFrame, fast: int = 12, slow: int = 26, signal: int = 9):\n",
    "    \"\"\"\n",
    "    Wrapper function for MACD\n",
    "    :param df:\n",
    "    :param fast:\n",
    "    :param slow:\n",
    "    :param signal:\n",
    "    :return:\n",
    "    \"\"\"\n",
    "    if not isinstance(fast, int):\n",
    "        raise Exception(\"fast must be an integer!\")\n",
    "    if not isinstance(slow, int):\n",
    "        raise Exception(\"slow must be an integer!\")\n",
    "    if not isinstance(signal, int):\n",
    "        raise Exception(\"signal must be an integer!\")\n",
    "    df[f'MACD_{fast}_{slow}_{signal}'] = ta.macd(close=df['Close'], fast=fast, slow=slow, signal=signal)[\n",
    "        f'MACD_{fast}_{slow}_{signal}']"
   ],
   "metadata": {
    "collapsed": false,
    "pycharm": {
     "name": "#%%\n"
    }
   }
  },
  {
   "cell_type": "code",
   "execution_count": 29,
   "outputs": [],
   "source": [
    "df = pd.read_parquet('../ProcessingData/BTC Minute CSVs/BTCUSER_all_processed.parquet')\n",
    "# df.head()\n",
    "indexes = [i for i in range(0, len(df)) if i % (30) == 0]\n",
    "temp = df.iloc[indexes]\n",
    "temp = temp.loc[df['Date'] > '2019-06-01 00:00:00']\n",
    "df = temp"
   ],
   "metadata": {
    "collapsed": false,
    "pycharm": {
     "name": "#%%\n"
    }
   }
  },
  {
   "cell_type": "code",
   "execution_count": 30,
   "outputs": [],
   "source": [
    "#df = pd.read_csv(\"..//ProcessingData//BTC Minute CSVs//BTCUSER_all_processed.csv\")\n",
    "# df = pd.read_csv(\"gemini_BTCUSD_2021_1min.csv\")\n",
    "\n",
    "# df = macd(df)\n",
    "# df = moving_average(df, 14)\n",
    "# df = df.join(relative_strength_index(df))\n",
    "calculate_rsi(df)\n",
    "calculate_sma(df)\n",
    "calculate_macd(df)\n",
    "df = df[50:]"
   ],
   "metadata": {
    "collapsed": false,
    "pycharm": {
     "name": "#%%\n"
    }
   }
  },
  {
   "cell_type": "code",
   "execution_count": 31,
   "outputs": [
    {
     "data": {
      "text/plain": "         Unix Timestamp                 Date  Symbol      Open      High  \\\n1873230   1559437800000  2019-06-02 01:10:00  BTCUSD   8601.24   8601.24   \n1873260   1559439600000  2019-06-02 01:40:00  BTCUSD   8571.90   8571.90   \n1873290   1559441400000  2019-06-02 02:10:00  BTCUSD   8585.14   8585.14   \n1873320   1559443200000  2019-06-02 02:40:00  BTCUSD   8580.30   8580.71   \n1873350   1559445000000  2019-06-02 03:10:00  BTCUSD   8564.08   8564.08   \n...                 ...                  ...     ...       ...       ...   \n3134280   1638653820000  2021-12-04 21:37:00  BTCUSD  48916.50  48945.69   \n3134310   1638655620000  2021-12-04 22:07:00  BTCUSD  48705.18  48740.92   \n3134340   1638657420000  2021-12-04 22:37:00  BTCUSD  49133.94  49133.94   \n3134370   1638659220000  2021-12-04 23:07:00  BTCUSD  49411.09  49517.02   \n3134400   1638661020000  2021-12-04 23:37:00  BTCUSD  49172.79  49185.60   \n\n              Low     Close    Volume     RSI_14      SMA_50  MACD_12_26_9  \n1873230   8599.77   8599.77  0.045667  58.397772   8545.1578     12.764778  \n1873260   8571.90   8571.90  0.199783  52.510880   8546.2718     11.942756  \n1873290   8585.14   8585.14  0.000068  54.839936   8547.6506     12.218804  \n1873320   8580.30   8580.71  0.009145  53.887633   8548.9408     11.942445  \n1873350   8556.96   8556.96  0.228999  48.977228   8549.7560      9.695242  \n...           ...       ...       ...        ...         ...           ...  \n3134280  48908.45  48945.69  0.081272  51.642789  49635.0744     11.085700  \n3134310  48705.18  48738.07  0.580081  49.166676  49532.8408      5.963928  \n3134340  49059.62  49059.62  0.412475  52.930781  49434.8950     27.533890  \n3134370  49390.61  49484.96  4.048899  57.422063  49351.1378     78.049914  \n3134400  49115.83  49185.60  0.671487  53.549230  49261.5580     92.857967  \n\n[42040 rows x 11 columns]",
      "text/html": "<div>\n<style scoped>\n    .dataframe tbody tr th:only-of-type {\n        vertical-align: middle;\n    }\n\n    .dataframe tbody tr th {\n        vertical-align: top;\n    }\n\n    .dataframe thead th {\n        text-align: right;\n    }\n</style>\n<table border=\"1\" class=\"dataframe\">\n  <thead>\n    <tr style=\"text-align: right;\">\n      <th></th>\n      <th>Unix Timestamp</th>\n      <th>Date</th>\n      <th>Symbol</th>\n      <th>Open</th>\n      <th>High</th>\n      <th>Low</th>\n      <th>Close</th>\n      <th>Volume</th>\n      <th>RSI_14</th>\n      <th>SMA_50</th>\n      <th>MACD_12_26_9</th>\n    </tr>\n  </thead>\n  <tbody>\n    <tr>\n      <th>1873230</th>\n      <td>1559437800000</td>\n      <td>2019-06-02 01:10:00</td>\n      <td>BTCUSD</td>\n      <td>8601.24</td>\n      <td>8601.24</td>\n      <td>8599.77</td>\n      <td>8599.77</td>\n      <td>0.045667</td>\n      <td>58.397772</td>\n      <td>8545.1578</td>\n      <td>12.764778</td>\n    </tr>\n    <tr>\n      <th>1873260</th>\n      <td>1559439600000</td>\n      <td>2019-06-02 01:40:00</td>\n      <td>BTCUSD</td>\n      <td>8571.90</td>\n      <td>8571.90</td>\n      <td>8571.90</td>\n      <td>8571.90</td>\n      <td>0.199783</td>\n      <td>52.510880</td>\n      <td>8546.2718</td>\n      <td>11.942756</td>\n    </tr>\n    <tr>\n      <th>1873290</th>\n      <td>1559441400000</td>\n      <td>2019-06-02 02:10:00</td>\n      <td>BTCUSD</td>\n      <td>8585.14</td>\n      <td>8585.14</td>\n      <td>8585.14</td>\n      <td>8585.14</td>\n      <td>0.000068</td>\n      <td>54.839936</td>\n      <td>8547.6506</td>\n      <td>12.218804</td>\n    </tr>\n    <tr>\n      <th>1873320</th>\n      <td>1559443200000</td>\n      <td>2019-06-02 02:40:00</td>\n      <td>BTCUSD</td>\n      <td>8580.30</td>\n      <td>8580.71</td>\n      <td>8580.30</td>\n      <td>8580.71</td>\n      <td>0.009145</td>\n      <td>53.887633</td>\n      <td>8548.9408</td>\n      <td>11.942445</td>\n    </tr>\n    <tr>\n      <th>1873350</th>\n      <td>1559445000000</td>\n      <td>2019-06-02 03:10:00</td>\n      <td>BTCUSD</td>\n      <td>8564.08</td>\n      <td>8564.08</td>\n      <td>8556.96</td>\n      <td>8556.96</td>\n      <td>0.228999</td>\n      <td>48.977228</td>\n      <td>8549.7560</td>\n      <td>9.695242</td>\n    </tr>\n    <tr>\n      <th>...</th>\n      <td>...</td>\n      <td>...</td>\n      <td>...</td>\n      <td>...</td>\n      <td>...</td>\n      <td>...</td>\n      <td>...</td>\n      <td>...</td>\n      <td>...</td>\n      <td>...</td>\n      <td>...</td>\n    </tr>\n    <tr>\n      <th>3134280</th>\n      <td>1638653820000</td>\n      <td>2021-12-04 21:37:00</td>\n      <td>BTCUSD</td>\n      <td>48916.50</td>\n      <td>48945.69</td>\n      <td>48908.45</td>\n      <td>48945.69</td>\n      <td>0.081272</td>\n      <td>51.642789</td>\n      <td>49635.0744</td>\n      <td>11.085700</td>\n    </tr>\n    <tr>\n      <th>3134310</th>\n      <td>1638655620000</td>\n      <td>2021-12-04 22:07:00</td>\n      <td>BTCUSD</td>\n      <td>48705.18</td>\n      <td>48740.92</td>\n      <td>48705.18</td>\n      <td>48738.07</td>\n      <td>0.580081</td>\n      <td>49.166676</td>\n      <td>49532.8408</td>\n      <td>5.963928</td>\n    </tr>\n    <tr>\n      <th>3134340</th>\n      <td>1638657420000</td>\n      <td>2021-12-04 22:37:00</td>\n      <td>BTCUSD</td>\n      <td>49133.94</td>\n      <td>49133.94</td>\n      <td>49059.62</td>\n      <td>49059.62</td>\n      <td>0.412475</td>\n      <td>52.930781</td>\n      <td>49434.8950</td>\n      <td>27.533890</td>\n    </tr>\n    <tr>\n      <th>3134370</th>\n      <td>1638659220000</td>\n      <td>2021-12-04 23:07:00</td>\n      <td>BTCUSD</td>\n      <td>49411.09</td>\n      <td>49517.02</td>\n      <td>49390.61</td>\n      <td>49484.96</td>\n      <td>4.048899</td>\n      <td>57.422063</td>\n      <td>49351.1378</td>\n      <td>78.049914</td>\n    </tr>\n    <tr>\n      <th>3134400</th>\n      <td>1638661020000</td>\n      <td>2021-12-04 23:37:00</td>\n      <td>BTCUSD</td>\n      <td>49172.79</td>\n      <td>49185.60</td>\n      <td>49115.83</td>\n      <td>49185.60</td>\n      <td>0.671487</td>\n      <td>53.549230</td>\n      <td>49261.5580</td>\n      <td>92.857967</td>\n    </tr>\n  </tbody>\n</table>\n<p>42040 rows × 11 columns</p>\n</div>"
     },
     "execution_count": 31,
     "metadata": {},
     "output_type": "execute_result"
    }
   ],
   "source": [
    "df"
   ],
   "metadata": {
    "collapsed": false,
    "pycharm": {
     "name": "#%%\n"
    }
   }
  },
  {
   "cell_type": "code",
   "execution_count": 32,
   "outputs": [],
   "source": [
    "\n",
    "def create_dataset(df, lb, steps_into_future):\n",
    "    x = []\n",
    "    y = []\n",
    "    for i in range(lb, df.shape[0] - steps_into_future):\n",
    "        x.append(df[i - lb:i, 0])\n",
    "        y.append(df[i:i + steps_into_future, 0])\n",
    "    x = np.array(x)\n",
    "    y = np.array(y)\n",
    "    return x, y\n"
   ],
   "metadata": {
    "collapsed": false,
    "pycharm": {
     "name": "#%%\n"
    }
   }
  },
  {
   "cell_type": "code",
   "execution_count": 33,
   "outputs": [],
   "source": [
    "def get_sets(df, column_name, scale = True):\n",
    "    values = df[column_name].values\n",
    "    values = values.reshape(-1, 1)\n",
    "    dataset_train = np.array(values[:int(values.shape[0] * 0.8)])\n",
    "    dataset_test = np.array(values[int(values.shape[0] * 0.8) - 50:])\n",
    "    scaler = None\n",
    "    if scale:\n",
    "        scaler = MinMaxScaler(feature_range=(0, 1))\n",
    "        scaler.fit(dataset_train)\n",
    "        dataset_train = scaler.transform(dataset_train)\n",
    "        dataset_test = scaler.transform(dataset_test)\n",
    "    x_train, y_train = create_dataset(dataset_train, 50, 50)\n",
    "    x_test, y_test = create_dataset(dataset_test, 50, 50)\n",
    "    x_train = np.reshape(x_train, (x_train.shape[0], x_train.shape[1], 1))\n",
    "    x_test = np.reshape(x_test, (x_test.shape[0], x_test.shape[1], 1))\n",
    "    return x_train, y_train, x_test, y_test, scaler"
   ],
   "metadata": {
    "collapsed": false,
    "pycharm": {
     "name": "#%%\n"
    }
   }
  },
  {
   "cell_type": "code",
   "execution_count": 34,
   "outputs": [],
   "source": [
    "x_train_prices, y_train, x_test_prices, y_test, scaler_prices = get_sets(df, 'Open', True)"
   ],
   "metadata": {
    "collapsed": false,
    "pycharm": {
     "name": "#%%\n"
    }
   }
  },
  {
   "cell_type": "code",
   "execution_count": 35,
   "outputs": [],
   "source": [
    "x_train_rsi, _, x_test_rsi, _ , _ = get_sets(df, 'RSI_14' , False)"
   ],
   "metadata": {
    "collapsed": false,
    "pycharm": {
     "name": "#%%\n"
    }
   }
  },
  {
   "cell_type": "code",
   "execution_count": 36,
   "outputs": [],
   "source": [
    "x_train_sma, _, x_test_sma, _, _  = get_sets(df, 'SMA_50', True)"
   ],
   "metadata": {
    "collapsed": false,
    "pycharm": {
     "name": "#%%\n"
    }
   }
  },
  {
   "cell_type": "code",
   "execution_count": 37,
   "outputs": [],
   "source": [
    "x_train_macd, _, x_test_macd, _, _  = get_sets(df, 'MACD_12_26_9', True)"
   ],
   "metadata": {
    "collapsed": false,
    "pycharm": {
     "name": "#%%\n"
    }
   }
  },
  {
   "cell_type": "code",
   "execution_count": 37,
   "outputs": [],
   "source": [],
   "metadata": {
    "collapsed": false,
    "pycharm": {
     "name": "#%%\n"
    }
   }
  },
  {
   "cell_type": "code",
   "execution_count": 37,
   "outputs": [],
   "source": [],
   "metadata": {
    "collapsed": false,
    "pycharm": {
     "name": "#%%\n"
    }
   }
  },
  {
   "cell_type": "code",
   "execution_count": 37,
   "outputs": [],
   "source": [],
   "metadata": {
    "collapsed": false,
    "pycharm": {
     "name": "#%%\n"
    }
   }
  },
  {
   "cell_type": "code",
   "execution_count": 38,
   "outputs": [],
   "source": [
    "from tensorflow.keras.optimizers import Adam\n",
    "from keras import Input\n",
    "from keras.models import Model\n",
    "from keras.layers import Concatenate\n",
    "\n",
    "#using functional API\n",
    "\n",
    "input_prices = Input(shape=(50, 1), dtype='float32')\n",
    "prices_layer_1 = LSTM(units=96, return_sequences=True)(input_prices)\n",
    "prices_layer_2 = Dropout(0.2)(prices_layer_1)\n",
    "prices_layer_3 = LSTM(units=96, return_sequences=True)(prices_layer_2)\n",
    "prices_layer_4 = Dropout(0.2)(prices_layer_3)\n",
    "\n",
    "\n",
    "\n",
    "input_rsi = Input(shape=(50, 1), dtype='float32')\n",
    "rsi_layer_1 = LSTM(units=96, return_sequences=True)(input_rsi)\n",
    "rsi_layer_2 = Dropout(0.2)(rsi_layer_1)\n",
    "rsi_layer_3 = LSTM(units=96, return_sequences=True)(rsi_layer_2)\n",
    "rsi_layer_4 = Dropout(0.2)(rsi_layer_3)\n",
    "\n",
    "\n",
    "input_sma = Input(shape=(50, 1), dtype='float32')\n",
    "sma_layer_1 = LSTM(units=96, return_sequences=True)(input_sma)\n",
    "sma_layer_2 = Dropout(0.2)(sma_layer_1)\n",
    "sma_layer_3 = LSTM(units=96, return_sequences=True)(sma_layer_2)\n",
    "sma_layer_4 = Dropout(0.2)(sma_layer_3)\n",
    "\n",
    "\n",
    "\n",
    "input_macd = Input(shape=(50, 1), dtype='float32')\n",
    "macd_layer_1 = LSTM(units=96, return_sequences=True)(input_macd)\n",
    "macd_layer_2 = Dropout(0.2)(macd_layer_1)\n",
    "macd_layer_3 = LSTM(units=96, return_sequences=True)(macd_layer_2)\n",
    "macd_layer_4 = Dropout(0.2)(macd_layer_3)\n",
    "\n",
    "\n",
    "\n",
    "input = Concatenate()([prices_layer_4, rsi_layer_4, sma_layer_4, macd_layer_4])\n",
    "\n",
    "\n",
    "x = LSTM(units=96, return_sequences=True)(input)\n",
    "x = Dropout(0.2)(x)\n",
    "x = LSTM(units=96)(x)\n",
    "x = Dropout(0.2)(x)\n",
    "x = Dense(50)(x)\n",
    "\n",
    "model = Model(inputs=[input_prices, input_rsi, input_sma, input_macd], outputs=x)\n",
    "model.compile(optimizer=Adam(learning_rate=0.0005), loss='mse')"
   ],
   "metadata": {
    "collapsed": false,
    "pycharm": {
     "name": "#%%\n"
    }
   }
  },
  {
   "cell_type": "code",
   "execution_count": 39,
   "outputs": [
    {
     "name": "stdout",
     "output_type": "stream",
     "text": [
      "Epoch 1/20\n",
      "1048/1048 [==============================] - 465s 411ms/step - loss: 0.0041 - val_loss: 8.0379e-04\n",
      "Epoch 2/20\n",
      "1048/1048 [==============================] - 346s 330ms/step - loss: 0.0012 - val_loss: 5.4926e-04\n",
      "Epoch 3/20\n",
      "1048/1048 [==============================] - 347s 331ms/step - loss: 8.4809e-04 - val_loss: 5.3851e-04\n",
      "Epoch 4/20\n",
      "1048/1048 [==============================] - 388s 370ms/step - loss: 7.3281e-04 - val_loss: 5.4427e-04\n",
      "Epoch 5/20\n",
      "1048/1048 [==============================] - 411s 392ms/step - loss: 6.6631e-04 - val_loss: 9.9311e-04\n",
      "Epoch 6/20\n",
      "1048/1048 [==============================] - 442s 422ms/step - loss: 6.4272e-04 - val_loss: 0.0011\n",
      "Epoch 7/20\n",
      "1048/1048 [==============================] - 426s 406ms/step - loss: 5.8964e-04 - val_loss: 7.8988e-04\n",
      "Epoch 8/20\n",
      "1048/1048 [==============================] - 371s 354ms/step - loss: 5.6938e-04 - val_loss: 7.3033e-04\n",
      "Epoch 9/20\n",
      "1048/1048 [==============================] - 445s 425ms/step - loss: 5.4509e-04 - val_loss: 6.3514e-04\n",
      "Epoch 10/20\n",
      "1048/1048 [==============================] - 431s 411ms/step - loss: 5.3328e-04 - val_loss: 6.9385e-04\n",
      "Epoch 11/20\n",
      "1048/1048 [==============================] - 417s 398ms/step - loss: 5.3059e-04 - val_loss: 9.7135e-04\n",
      "Epoch 12/20\n",
      "1048/1048 [==============================] - 432s 413ms/step - loss: 5.1726e-04 - val_loss: 7.1896e-04\n",
      "Epoch 13/20\n",
      "1048/1048 [==============================] - 447s 426ms/step - loss: 5.0262e-04 - val_loss: 5.6923e-04\n",
      "Epoch 14/20\n",
      "1048/1048 [==============================] - 398s 380ms/step - loss: 5.1266e-04 - val_loss: 6.9949e-04\n",
      "Epoch 15/20\n",
      "1048/1048 [==============================] - 366s 350ms/step - loss: 5.1210e-04 - val_loss: 9.4074e-04\n",
      "Epoch 16/20\n",
      "1048/1048 [==============================] - 363s 346ms/step - loss: 5.0309e-04 - val_loss: 6.8538e-04\n",
      "Epoch 17/20\n",
      "1048/1048 [==============================] - 395s 377ms/step - loss: 5.1056e-04 - val_loss: 6.4343e-04\n",
      "Epoch 18/20\n",
      "1048/1048 [==============================] - 389s 372ms/step - loss: 4.9292e-04 - val_loss: 6.3636e-04\n",
      "Epoch 19/20\n",
      "1048/1048 [==============================] - 458s 438ms/step - loss: 4.8776e-04 - val_loss: 5.3871e-04\n",
      "Epoch 20/20\n",
      "1048/1048 [==============================] - 393s 375ms/step - loss: 4.8479e-04 - val_loss: 8.8418e-04\n"
     ]
    },
    {
     "name": "stderr",
     "output_type": "stream",
     "text": [
      "WARNING:absl:Found untraced functions such as lstm_cell_10_layer_call_fn, lstm_cell_10_layer_call_and_return_conditional_losses, lstm_cell_12_layer_call_fn, lstm_cell_12_layer_call_and_return_conditional_losses, lstm_cell_14_layer_call_fn while saving (showing 5 of 50). These functions will not be directly callable after loading.\n"
     ]
    },
    {
     "name": "stdout",
     "output_type": "stream",
     "text": [
      "INFO:tensorflow:Assets written to: stock_prediction_merged_v3_0_steps\\assets\n"
     ]
    },
    {
     "name": "stderr",
     "output_type": "stream",
     "text": [
      "INFO:tensorflow:Assets written to: stock_prediction_merged_v3_0_steps\\assets\n",
      "WARNING:absl:<keras.layers.recurrent.LSTMCell object at 0x000002BCCF491640> has the same name 'LSTMCell' as a built-in Keras object. Consider renaming <class 'keras.layers.recurrent.LSTMCell'> to avoid naming conflicts when loading with `tf.keras.models.load_model`. If renaming is not possible, pass the object in the `custom_objects` parameter of the load function.\n",
      "WARNING:absl:<keras.layers.recurrent.LSTMCell object at 0x000002BCCF3B9340> has the same name 'LSTMCell' as a built-in Keras object. Consider renaming <class 'keras.layers.recurrent.LSTMCell'> to avoid naming conflicts when loading with `tf.keras.models.load_model`. If renaming is not possible, pass the object in the `custom_objects` parameter of the load function.\n",
      "WARNING:absl:<keras.layers.recurrent.LSTMCell object at 0x000002BCCF414D60> has the same name 'LSTMCell' as a built-in Keras object. Consider renaming <class 'keras.layers.recurrent.LSTMCell'> to avoid naming conflicts when loading with `tf.keras.models.load_model`. If renaming is not possible, pass the object in the `custom_objects` parameter of the load function.\n",
      "WARNING:absl:<keras.layers.recurrent.LSTMCell object at 0x000002BCBE28B910> has the same name 'LSTMCell' as a built-in Keras object. Consider renaming <class 'keras.layers.recurrent.LSTMCell'> to avoid naming conflicts when loading with `tf.keras.models.load_model`. If renaming is not possible, pass the object in the `custom_objects` parameter of the load function.\n",
      "WARNING:absl:<keras.layers.recurrent.LSTMCell object at 0x000002BCBE308BB0> has the same name 'LSTMCell' as a built-in Keras object. Consider renaming <class 'keras.layers.recurrent.LSTMCell'> to avoid naming conflicts when loading with `tf.keras.models.load_model`. If renaming is not possible, pass the object in the `custom_objects` parameter of the load function.\n",
      "WARNING:absl:<keras.layers.recurrent.LSTMCell object at 0x000002BCCF536700> has the same name 'LSTMCell' as a built-in Keras object. Consider renaming <class 'keras.layers.recurrent.LSTMCell'> to avoid naming conflicts when loading with `tf.keras.models.load_model`. If renaming is not possible, pass the object in the `custom_objects` parameter of the load function.\n",
      "WARNING:absl:<keras.layers.recurrent.LSTMCell object at 0x000002BCCF4633D0> has the same name 'LSTMCell' as a built-in Keras object. Consider renaming <class 'keras.layers.recurrent.LSTMCell'> to avoid naming conflicts when loading with `tf.keras.models.load_model`. If renaming is not possible, pass the object in the `custom_objects` parameter of the load function.\n",
      "WARNING:absl:<keras.layers.recurrent.LSTMCell object at 0x000002BC8963D370> has the same name 'LSTMCell' as a built-in Keras object. Consider renaming <class 'keras.layers.recurrent.LSTMCell'> to avoid naming conflicts when loading with `tf.keras.models.load_model`. If renaming is not possible, pass the object in the `custom_objects` parameter of the load function.\n",
      "WARNING:absl:<keras.layers.recurrent.LSTMCell object at 0x000002BC921E83A0> has the same name 'LSTMCell' as a built-in Keras object. Consider renaming <class 'keras.layers.recurrent.LSTMCell'> to avoid naming conflicts when loading with `tf.keras.models.load_model`. If renaming is not possible, pass the object in the `custom_objects` parameter of the load function.\n",
      "WARNING:absl:<keras.layers.recurrent.LSTMCell object at 0x000002BC86A30DC0> has the same name 'LSTMCell' as a built-in Keras object. Consider renaming <class 'keras.layers.recurrent.LSTMCell'> to avoid naming conflicts when loading with `tf.keras.models.load_model`. If renaming is not possible, pass the object in the `custom_objects` parameter of the load function.\n"
     ]
    },
    {
     "name": "stdout",
     "output_type": "stream",
     "text": [
      "Epoch 1/20\n",
      "1048/1048 [==============================] - 382s 365ms/step - loss: 4.8443e-04 - val_loss: 5.2643e-04\n",
      "Epoch 2/20\n",
      "1048/1048 [==============================] - 458s 437ms/step - loss: 4.8362e-04 - val_loss: 8.2862e-04\n",
      "Epoch 3/20\n",
      "1048/1048 [==============================] - 505s 482ms/step - loss: 4.8795e-04 - val_loss: 6.7490e-04\n",
      "Epoch 4/20\n",
      "1048/1048 [==============================] - 509s 485ms/step - loss: 4.6955e-04 - val_loss: 7.1670e-04\n",
      "Epoch 5/20\n",
      "1048/1048 [==============================] - 447s 427ms/step - loss: 4.8714e-04 - val_loss: 8.3276e-04\n",
      "Epoch 6/20\n",
      "1048/1048 [==============================] - 419s 399ms/step - loss: 4.7571e-04 - val_loss: 6.8845e-04\n",
      "Epoch 7/20\n",
      "1048/1048 [==============================] - 440s 420ms/step - loss: 4.6853e-04 - val_loss: 4.8190e-04\n",
      "Epoch 8/20\n",
      "1048/1048 [==============================] - 409s 391ms/step - loss: 4.6360e-04 - val_loss: 7.1995e-04\n",
      "Epoch 9/20\n",
      "1048/1048 [==============================] - 391s 373ms/step - loss: 4.7515e-04 - val_loss: 5.1005e-04\n",
      "Epoch 10/20\n",
      "1048/1048 [==============================] - 389s 371ms/step - loss: 4.7430e-04 - val_loss: 6.3307e-04\n",
      "Epoch 11/20\n",
      "1048/1048 [==============================] - 386s 369ms/step - loss: 4.7402e-04 - val_loss: 6.0887e-04\n",
      "Epoch 12/20\n",
      "1048/1048 [==============================] - 391s 373ms/step - loss: 4.5260e-04 - val_loss: 5.0910e-04\n",
      "Epoch 13/20\n",
      "1048/1048 [==============================] - 389s 371ms/step - loss: 4.5679e-04 - val_loss: 5.3550e-04\n",
      "Epoch 14/20\n",
      "1048/1048 [==============================] - 387s 369ms/step - loss: 4.4485e-04 - val_loss: 0.0016\n",
      "Epoch 15/20\n",
      "1048/1048 [==============================] - 389s 371ms/step - loss: 4.6900e-04 - val_loss: 5.5513e-04\n",
      "Epoch 16/20\n",
      "1048/1048 [==============================] - 390s 372ms/step - loss: 4.6215e-04 - val_loss: 5.8952e-04\n",
      "Epoch 17/20\n",
      "1048/1048 [==============================] - 390s 372ms/step - loss: 4.5142e-04 - val_loss: 8.9775e-04\n",
      "Epoch 18/20\n",
      "1048/1048 [==============================] - 417s 397ms/step - loss: 4.4806e-04 - val_loss: 0.0012\n",
      "Epoch 19/20\n",
      "1048/1048 [==============================] - 429s 409ms/step - loss: 4.5795e-04 - val_loss: 5.1508e-04\n",
      "Epoch 20/20\n",
      "1048/1048 [==============================] - 426s 407ms/step - loss: 4.7062e-04 - val_loss: 7.0103e-04\n"
     ]
    },
    {
     "name": "stderr",
     "output_type": "stream",
     "text": [
      "WARNING:absl:Found untraced functions such as lstm_cell_10_layer_call_fn, lstm_cell_10_layer_call_and_return_conditional_losses, lstm_cell_12_layer_call_fn, lstm_cell_12_layer_call_and_return_conditional_losses, lstm_cell_14_layer_call_fn while saving (showing 5 of 50). These functions will not be directly callable after loading.\n"
     ]
    },
    {
     "name": "stdout",
     "output_type": "stream",
     "text": [
      "INFO:tensorflow:Assets written to: stock_prediction_merged_v3_1_steps\\assets\n"
     ]
    },
    {
     "name": "stderr",
     "output_type": "stream",
     "text": [
      "INFO:tensorflow:Assets written to: stock_prediction_merged_v3_1_steps\\assets\n",
      "WARNING:absl:<keras.layers.recurrent.LSTMCell object at 0x000002BCCF491640> has the same name 'LSTMCell' as a built-in Keras object. Consider renaming <class 'keras.layers.recurrent.LSTMCell'> to avoid naming conflicts when loading with `tf.keras.models.load_model`. If renaming is not possible, pass the object in the `custom_objects` parameter of the load function.\n",
      "WARNING:absl:<keras.layers.recurrent.LSTMCell object at 0x000002BCCF3B9340> has the same name 'LSTMCell' as a built-in Keras object. Consider renaming <class 'keras.layers.recurrent.LSTMCell'> to avoid naming conflicts when loading with `tf.keras.models.load_model`. If renaming is not possible, pass the object in the `custom_objects` parameter of the load function.\n",
      "WARNING:absl:<keras.layers.recurrent.LSTMCell object at 0x000002BCCF414D60> has the same name 'LSTMCell' as a built-in Keras object. Consider renaming <class 'keras.layers.recurrent.LSTMCell'> to avoid naming conflicts when loading with `tf.keras.models.load_model`. If renaming is not possible, pass the object in the `custom_objects` parameter of the load function.\n",
      "WARNING:absl:<keras.layers.recurrent.LSTMCell object at 0x000002BCBE28B910> has the same name 'LSTMCell' as a built-in Keras object. Consider renaming <class 'keras.layers.recurrent.LSTMCell'> to avoid naming conflicts when loading with `tf.keras.models.load_model`. If renaming is not possible, pass the object in the `custom_objects` parameter of the load function.\n",
      "WARNING:absl:<keras.layers.recurrent.LSTMCell object at 0x000002BCBE308BB0> has the same name 'LSTMCell' as a built-in Keras object. Consider renaming <class 'keras.layers.recurrent.LSTMCell'> to avoid naming conflicts when loading with `tf.keras.models.load_model`. If renaming is not possible, pass the object in the `custom_objects` parameter of the load function.\n",
      "WARNING:absl:<keras.layers.recurrent.LSTMCell object at 0x000002BCCF536700> has the same name 'LSTMCell' as a built-in Keras object. Consider renaming <class 'keras.layers.recurrent.LSTMCell'> to avoid naming conflicts when loading with `tf.keras.models.load_model`. If renaming is not possible, pass the object in the `custom_objects` parameter of the load function.\n",
      "WARNING:absl:<keras.layers.recurrent.LSTMCell object at 0x000002BCCF4633D0> has the same name 'LSTMCell' as a built-in Keras object. Consider renaming <class 'keras.layers.recurrent.LSTMCell'> to avoid naming conflicts when loading with `tf.keras.models.load_model`. If renaming is not possible, pass the object in the `custom_objects` parameter of the load function.\n",
      "WARNING:absl:<keras.layers.recurrent.LSTMCell object at 0x000002BC8963D370> has the same name 'LSTMCell' as a built-in Keras object. Consider renaming <class 'keras.layers.recurrent.LSTMCell'> to avoid naming conflicts when loading with `tf.keras.models.load_model`. If renaming is not possible, pass the object in the `custom_objects` parameter of the load function.\n",
      "WARNING:absl:<keras.layers.recurrent.LSTMCell object at 0x000002BC921E83A0> has the same name 'LSTMCell' as a built-in Keras object. Consider renaming <class 'keras.layers.recurrent.LSTMCell'> to avoid naming conflicts when loading with `tf.keras.models.load_model`. If renaming is not possible, pass the object in the `custom_objects` parameter of the load function.\n",
      "WARNING:absl:<keras.layers.recurrent.LSTMCell object at 0x000002BC86A30DC0> has the same name 'LSTMCell' as a built-in Keras object. Consider renaming <class 'keras.layers.recurrent.LSTMCell'> to avoid naming conflicts when loading with `tf.keras.models.load_model`. If renaming is not possible, pass the object in the `custom_objects` parameter of the load function.\n"
     ]
    },
    {
     "name": "stdout",
     "output_type": "stream",
     "text": [
      "Epoch 1/20\n",
      "1048/1048 [==============================] - 719s 686ms/step - loss: 4.5571e-04 - val_loss: 5.2300e-04\n",
      "Epoch 2/20\n",
      "1048/1048 [==============================] - 782s 746ms/step - loss: 4.4573e-04 - val_loss: 8.1776e-04\n",
      "Epoch 3/20\n",
      "1048/1048 [==============================] - 735s 701ms/step - loss: 4.5512e-04 - val_loss: 7.3276e-04\n",
      "Epoch 4/20\n",
      "1048/1048 [==============================] - 820s 782ms/step - loss: 4.5969e-04 - val_loss: 0.0011\n",
      "Epoch 5/20\n",
      " 277/1048 [======>.......................] - ETA: 11:12 - loss: 4.3624e-04"
     ]
    },
    {
     "ename": "KeyboardInterrupt",
     "evalue": "",
     "output_type": "error",
     "traceback": [
      "\u001B[1;31m---------------------------------------------------------------------------\u001B[0m",
      "\u001B[1;31mKeyboardInterrupt\u001B[0m                         Traceback (most recent call last)",
      "\u001B[1;32m~\\AppData\\Local\\Temp/ipykernel_20080/2801730977.py\u001B[0m in \u001B[0;36m<module>\u001B[1;34m\u001B[0m\n\u001B[0;32m      2\u001B[0m \u001B[0mtest_list\u001B[0m \u001B[1;33m=\u001B[0m \u001B[1;33m[\u001B[0m\u001B[0mx_test_prices\u001B[0m\u001B[1;33m,\u001B[0m \u001B[0mx_test_rsi\u001B[0m\u001B[1;33m,\u001B[0m \u001B[0mx_test_sma\u001B[0m\u001B[1;33m,\u001B[0m \u001B[0mx_test_macd\u001B[0m\u001B[1;33m]\u001B[0m\u001B[1;33m\u001B[0m\u001B[1;33m\u001B[0m\u001B[0m\n\u001B[0;32m      3\u001B[0m \u001B[1;32mfor\u001B[0m \u001B[0mi\u001B[0m \u001B[1;32min\u001B[0m \u001B[0mrange\u001B[0m\u001B[1;33m(\u001B[0m\u001B[1;36m0\u001B[0m\u001B[1;33m,\u001B[0m \u001B[1;36m100\u001B[0m\u001B[1;33m)\u001B[0m\u001B[1;33m:\u001B[0m\u001B[1;33m\u001B[0m\u001B[1;33m\u001B[0m\u001B[0m\n\u001B[1;32m----> 4\u001B[1;33m     \u001B[0mmodel\u001B[0m\u001B[1;33m.\u001B[0m\u001B[0mfit\u001B[0m\u001B[1;33m(\u001B[0m\u001B[0mtrain_list\u001B[0m\u001B[1;33m,\u001B[0m \u001B[0my_train\u001B[0m\u001B[1;33m,\u001B[0m \u001B[0mepochs\u001B[0m\u001B[1;33m=\u001B[0m\u001B[1;36m20\u001B[0m\u001B[1;33m,\u001B[0m \u001B[0mvalidation_data\u001B[0m\u001B[1;33m=\u001B[0m\u001B[1;33m(\u001B[0m\u001B[0mtest_list\u001B[0m\u001B[1;33m,\u001B[0m \u001B[0my_test\u001B[0m\u001B[1;33m)\u001B[0m\u001B[1;33m,\u001B[0m \u001B[0mbatch_size\u001B[0m\u001B[1;33m=\u001B[0m\u001B[1;36m32\u001B[0m\u001B[1;33m)\u001B[0m\u001B[1;33m\u001B[0m\u001B[1;33m\u001B[0m\u001B[0m\n\u001B[0m\u001B[0;32m      5\u001B[0m     \u001B[0mmodel\u001B[0m\u001B[1;33m.\u001B[0m\u001B[0msave\u001B[0m\u001B[1;33m(\u001B[0m\u001B[1;34mf'stock_prediction_merged_v3_{i}_steps'\u001B[0m\u001B[1;33m)\u001B[0m\u001B[1;33m\u001B[0m\u001B[1;33m\u001B[0m\u001B[0m\n\u001B[0;32m      6\u001B[0m \u001B[1;33m\u001B[0m\u001B[0m\n",
      "\u001B[1;32me:\\repos\\ai-predictie-de-pret\\processingdata\\venv\\lib\\site-packages\\keras\\utils\\traceback_utils.py\u001B[0m in \u001B[0;36merror_handler\u001B[1;34m(*args, **kwargs)\u001B[0m\n\u001B[0;32m     62\u001B[0m     \u001B[0mfiltered_tb\u001B[0m \u001B[1;33m=\u001B[0m \u001B[1;32mNone\u001B[0m\u001B[1;33m\u001B[0m\u001B[1;33m\u001B[0m\u001B[0m\n\u001B[0;32m     63\u001B[0m     \u001B[1;32mtry\u001B[0m\u001B[1;33m:\u001B[0m\u001B[1;33m\u001B[0m\u001B[1;33m\u001B[0m\u001B[0m\n\u001B[1;32m---> 64\u001B[1;33m       \u001B[1;32mreturn\u001B[0m \u001B[0mfn\u001B[0m\u001B[1;33m(\u001B[0m\u001B[1;33m*\u001B[0m\u001B[0margs\u001B[0m\u001B[1;33m,\u001B[0m \u001B[1;33m**\u001B[0m\u001B[0mkwargs\u001B[0m\u001B[1;33m)\u001B[0m\u001B[1;33m\u001B[0m\u001B[1;33m\u001B[0m\u001B[0m\n\u001B[0m\u001B[0;32m     65\u001B[0m     \u001B[1;32mexcept\u001B[0m \u001B[0mException\u001B[0m \u001B[1;32mas\u001B[0m \u001B[0me\u001B[0m\u001B[1;33m:\u001B[0m  \u001B[1;31m# pylint: disable=broad-except\u001B[0m\u001B[1;33m\u001B[0m\u001B[1;33m\u001B[0m\u001B[0m\n\u001B[0;32m     66\u001B[0m       \u001B[0mfiltered_tb\u001B[0m \u001B[1;33m=\u001B[0m \u001B[0m_process_traceback_frames\u001B[0m\u001B[1;33m(\u001B[0m\u001B[0me\u001B[0m\u001B[1;33m.\u001B[0m\u001B[0m__traceback__\u001B[0m\u001B[1;33m)\u001B[0m\u001B[1;33m\u001B[0m\u001B[1;33m\u001B[0m\u001B[0m\n",
      "\u001B[1;32me:\\repos\\ai-predictie-de-pret\\processingdata\\venv\\lib\\site-packages\\keras\\engine\\training.py\u001B[0m in \u001B[0;36mfit\u001B[1;34m(self, x, y, batch_size, epochs, verbose, callbacks, validation_split, validation_data, shuffle, class_weight, sample_weight, initial_epoch, steps_per_epoch, validation_steps, validation_batch_size, validation_freq, max_queue_size, workers, use_multiprocessing)\u001B[0m\n\u001B[0;32m   1214\u001B[0m                 _r=1):\n\u001B[0;32m   1215\u001B[0m               \u001B[0mcallbacks\u001B[0m\u001B[1;33m.\u001B[0m\u001B[0mon_train_batch_begin\u001B[0m\u001B[1;33m(\u001B[0m\u001B[0mstep\u001B[0m\u001B[1;33m)\u001B[0m\u001B[1;33m\u001B[0m\u001B[1;33m\u001B[0m\u001B[0m\n\u001B[1;32m-> 1216\u001B[1;33m               \u001B[0mtmp_logs\u001B[0m \u001B[1;33m=\u001B[0m \u001B[0mself\u001B[0m\u001B[1;33m.\u001B[0m\u001B[0mtrain_function\u001B[0m\u001B[1;33m(\u001B[0m\u001B[0miterator\u001B[0m\u001B[1;33m)\u001B[0m\u001B[1;33m\u001B[0m\u001B[1;33m\u001B[0m\u001B[0m\n\u001B[0m\u001B[0;32m   1217\u001B[0m               \u001B[1;32mif\u001B[0m \u001B[0mdata_handler\u001B[0m\u001B[1;33m.\u001B[0m\u001B[0mshould_sync\u001B[0m\u001B[1;33m:\u001B[0m\u001B[1;33m\u001B[0m\u001B[1;33m\u001B[0m\u001B[0m\n\u001B[0;32m   1218\u001B[0m                 \u001B[0mcontext\u001B[0m\u001B[1;33m.\u001B[0m\u001B[0masync_wait\u001B[0m\u001B[1;33m(\u001B[0m\u001B[1;33m)\u001B[0m\u001B[1;33m\u001B[0m\u001B[1;33m\u001B[0m\u001B[0m\n",
      "\u001B[1;32me:\\repos\\ai-predictie-de-pret\\processingdata\\venv\\lib\\site-packages\\tensorflow\\python\\util\\traceback_utils.py\u001B[0m in \u001B[0;36merror_handler\u001B[1;34m(*args, **kwargs)\u001B[0m\n\u001B[0;32m    148\u001B[0m     \u001B[0mfiltered_tb\u001B[0m \u001B[1;33m=\u001B[0m \u001B[1;32mNone\u001B[0m\u001B[1;33m\u001B[0m\u001B[1;33m\u001B[0m\u001B[0m\n\u001B[0;32m    149\u001B[0m     \u001B[1;32mtry\u001B[0m\u001B[1;33m:\u001B[0m\u001B[1;33m\u001B[0m\u001B[1;33m\u001B[0m\u001B[0m\n\u001B[1;32m--> 150\u001B[1;33m       \u001B[1;32mreturn\u001B[0m \u001B[0mfn\u001B[0m\u001B[1;33m(\u001B[0m\u001B[1;33m*\u001B[0m\u001B[0margs\u001B[0m\u001B[1;33m,\u001B[0m \u001B[1;33m**\u001B[0m\u001B[0mkwargs\u001B[0m\u001B[1;33m)\u001B[0m\u001B[1;33m\u001B[0m\u001B[1;33m\u001B[0m\u001B[0m\n\u001B[0m\u001B[0;32m    151\u001B[0m     \u001B[1;32mexcept\u001B[0m \u001B[0mException\u001B[0m \u001B[1;32mas\u001B[0m \u001B[0me\u001B[0m\u001B[1;33m:\u001B[0m\u001B[1;33m\u001B[0m\u001B[1;33m\u001B[0m\u001B[0m\n\u001B[0;32m    152\u001B[0m       \u001B[0mfiltered_tb\u001B[0m \u001B[1;33m=\u001B[0m \u001B[0m_process_traceback_frames\u001B[0m\u001B[1;33m(\u001B[0m\u001B[0me\u001B[0m\u001B[1;33m.\u001B[0m\u001B[0m__traceback__\u001B[0m\u001B[1;33m)\u001B[0m\u001B[1;33m\u001B[0m\u001B[1;33m\u001B[0m\u001B[0m\n",
      "\u001B[1;32me:\\repos\\ai-predictie-de-pret\\processingdata\\venv\\lib\\site-packages\\tensorflow\\python\\eager\\def_function.py\u001B[0m in \u001B[0;36m__call__\u001B[1;34m(self, *args, **kwds)\u001B[0m\n\u001B[0;32m    908\u001B[0m \u001B[1;33m\u001B[0m\u001B[0m\n\u001B[0;32m    909\u001B[0m       \u001B[1;32mwith\u001B[0m \u001B[0mOptionalXlaContext\u001B[0m\u001B[1;33m(\u001B[0m\u001B[0mself\u001B[0m\u001B[1;33m.\u001B[0m\u001B[0m_jit_compile\u001B[0m\u001B[1;33m)\u001B[0m\u001B[1;33m:\u001B[0m\u001B[1;33m\u001B[0m\u001B[1;33m\u001B[0m\u001B[0m\n\u001B[1;32m--> 910\u001B[1;33m         \u001B[0mresult\u001B[0m \u001B[1;33m=\u001B[0m \u001B[0mself\u001B[0m\u001B[1;33m.\u001B[0m\u001B[0m_call\u001B[0m\u001B[1;33m(\u001B[0m\u001B[1;33m*\u001B[0m\u001B[0margs\u001B[0m\u001B[1;33m,\u001B[0m \u001B[1;33m**\u001B[0m\u001B[0mkwds\u001B[0m\u001B[1;33m)\u001B[0m\u001B[1;33m\u001B[0m\u001B[1;33m\u001B[0m\u001B[0m\n\u001B[0m\u001B[0;32m    911\u001B[0m \u001B[1;33m\u001B[0m\u001B[0m\n\u001B[0;32m    912\u001B[0m       \u001B[0mnew_tracing_count\u001B[0m \u001B[1;33m=\u001B[0m \u001B[0mself\u001B[0m\u001B[1;33m.\u001B[0m\u001B[0mexperimental_get_tracing_count\u001B[0m\u001B[1;33m(\u001B[0m\u001B[1;33m)\u001B[0m\u001B[1;33m\u001B[0m\u001B[1;33m\u001B[0m\u001B[0m\n",
      "\u001B[1;32me:\\repos\\ai-predictie-de-pret\\processingdata\\venv\\lib\\site-packages\\tensorflow\\python\\eager\\def_function.py\u001B[0m in \u001B[0;36m_call\u001B[1;34m(self, *args, **kwds)\u001B[0m\n\u001B[0;32m    940\u001B[0m       \u001B[1;31m# In this case we have created variables on the first call, so we run the\u001B[0m\u001B[1;33m\u001B[0m\u001B[1;33m\u001B[0m\u001B[0m\n\u001B[0;32m    941\u001B[0m       \u001B[1;31m# defunned version which is guaranteed to never create variables.\u001B[0m\u001B[1;33m\u001B[0m\u001B[1;33m\u001B[0m\u001B[0m\n\u001B[1;32m--> 942\u001B[1;33m       \u001B[1;32mreturn\u001B[0m \u001B[0mself\u001B[0m\u001B[1;33m.\u001B[0m\u001B[0m_stateless_fn\u001B[0m\u001B[1;33m(\u001B[0m\u001B[1;33m*\u001B[0m\u001B[0margs\u001B[0m\u001B[1;33m,\u001B[0m \u001B[1;33m**\u001B[0m\u001B[0mkwds\u001B[0m\u001B[1;33m)\u001B[0m  \u001B[1;31m# pylint: disable=not-callable\u001B[0m\u001B[1;33m\u001B[0m\u001B[1;33m\u001B[0m\u001B[0m\n\u001B[0m\u001B[0;32m    943\u001B[0m     \u001B[1;32melif\u001B[0m \u001B[0mself\u001B[0m\u001B[1;33m.\u001B[0m\u001B[0m_stateful_fn\u001B[0m \u001B[1;32mis\u001B[0m \u001B[1;32mnot\u001B[0m \u001B[1;32mNone\u001B[0m\u001B[1;33m:\u001B[0m\u001B[1;33m\u001B[0m\u001B[1;33m\u001B[0m\u001B[0m\n\u001B[0;32m    944\u001B[0m       \u001B[1;31m# Release the lock early so that multiple threads can perform the call\u001B[0m\u001B[1;33m\u001B[0m\u001B[1;33m\u001B[0m\u001B[0m\n",
      "\u001B[1;32me:\\repos\\ai-predictie-de-pret\\processingdata\\venv\\lib\\site-packages\\tensorflow\\python\\eager\\function.py\u001B[0m in \u001B[0;36m__call__\u001B[1;34m(self, *args, **kwargs)\u001B[0m\n\u001B[0;32m   3128\u001B[0m       (graph_function,\n\u001B[0;32m   3129\u001B[0m        filtered_flat_args) = self._maybe_define_function(args, kwargs)\n\u001B[1;32m-> 3130\u001B[1;33m     return graph_function._call_flat(\n\u001B[0m\u001B[0;32m   3131\u001B[0m         filtered_flat_args, captured_inputs=graph_function.captured_inputs)  # pylint: disable=protected-access\n\u001B[0;32m   3132\u001B[0m \u001B[1;33m\u001B[0m\u001B[0m\n",
      "\u001B[1;32me:\\repos\\ai-predictie-de-pret\\processingdata\\venv\\lib\\site-packages\\tensorflow\\python\\eager\\function.py\u001B[0m in \u001B[0;36m_call_flat\u001B[1;34m(self, args, captured_inputs, cancellation_manager)\u001B[0m\n\u001B[0;32m   1957\u001B[0m         and executing_eagerly):\n\u001B[0;32m   1958\u001B[0m       \u001B[1;31m# No tape is watching; skip to running the function.\u001B[0m\u001B[1;33m\u001B[0m\u001B[1;33m\u001B[0m\u001B[0m\n\u001B[1;32m-> 1959\u001B[1;33m       return self._build_call_outputs(self._inference_function.call(\n\u001B[0m\u001B[0;32m   1960\u001B[0m           ctx, args, cancellation_manager=cancellation_manager))\n\u001B[0;32m   1961\u001B[0m     forward_backward = self._select_forward_and_backward_functions(\n",
      "\u001B[1;32me:\\repos\\ai-predictie-de-pret\\processingdata\\venv\\lib\\site-packages\\tensorflow\\python\\eager\\function.py\u001B[0m in \u001B[0;36mcall\u001B[1;34m(self, ctx, args, cancellation_manager)\u001B[0m\n\u001B[0;32m    596\u001B[0m       \u001B[1;32mwith\u001B[0m \u001B[0m_InterpolateFunctionError\u001B[0m\u001B[1;33m(\u001B[0m\u001B[0mself\u001B[0m\u001B[1;33m)\u001B[0m\u001B[1;33m:\u001B[0m\u001B[1;33m\u001B[0m\u001B[1;33m\u001B[0m\u001B[0m\n\u001B[0;32m    597\u001B[0m         \u001B[1;32mif\u001B[0m \u001B[0mcancellation_manager\u001B[0m \u001B[1;32mis\u001B[0m \u001B[1;32mNone\u001B[0m\u001B[1;33m:\u001B[0m\u001B[1;33m\u001B[0m\u001B[1;33m\u001B[0m\u001B[0m\n\u001B[1;32m--> 598\u001B[1;33m           outputs = execute.execute(\n\u001B[0m\u001B[0;32m    599\u001B[0m               \u001B[0mstr\u001B[0m\u001B[1;33m(\u001B[0m\u001B[0mself\u001B[0m\u001B[1;33m.\u001B[0m\u001B[0msignature\u001B[0m\u001B[1;33m.\u001B[0m\u001B[0mname\u001B[0m\u001B[1;33m)\u001B[0m\u001B[1;33m,\u001B[0m\u001B[1;33m\u001B[0m\u001B[1;33m\u001B[0m\u001B[0m\n\u001B[0;32m    600\u001B[0m               \u001B[0mnum_outputs\u001B[0m\u001B[1;33m=\u001B[0m\u001B[0mself\u001B[0m\u001B[1;33m.\u001B[0m\u001B[0m_num_outputs\u001B[0m\u001B[1;33m,\u001B[0m\u001B[1;33m\u001B[0m\u001B[1;33m\u001B[0m\u001B[0m\n",
      "\u001B[1;32me:\\repos\\ai-predictie-de-pret\\processingdata\\venv\\lib\\site-packages\\tensorflow\\python\\eager\\execute.py\u001B[0m in \u001B[0;36mquick_execute\u001B[1;34m(op_name, num_outputs, inputs, attrs, ctx, name)\u001B[0m\n\u001B[0;32m     56\u001B[0m   \u001B[1;32mtry\u001B[0m\u001B[1;33m:\u001B[0m\u001B[1;33m\u001B[0m\u001B[1;33m\u001B[0m\u001B[0m\n\u001B[0;32m     57\u001B[0m     \u001B[0mctx\u001B[0m\u001B[1;33m.\u001B[0m\u001B[0mensure_initialized\u001B[0m\u001B[1;33m(\u001B[0m\u001B[1;33m)\u001B[0m\u001B[1;33m\u001B[0m\u001B[1;33m\u001B[0m\u001B[0m\n\u001B[1;32m---> 58\u001B[1;33m     tensors = pywrap_tfe.TFE_Py_Execute(ctx._handle, device_name, op_name,\n\u001B[0m\u001B[0;32m     59\u001B[0m                                         inputs, attrs, num_outputs)\n\u001B[0;32m     60\u001B[0m   \u001B[1;32mexcept\u001B[0m \u001B[0mcore\u001B[0m\u001B[1;33m.\u001B[0m\u001B[0m_NotOkStatusException\u001B[0m \u001B[1;32mas\u001B[0m \u001B[0me\u001B[0m\u001B[1;33m:\u001B[0m\u001B[1;33m\u001B[0m\u001B[1;33m\u001B[0m\u001B[0m\n",
      "\u001B[1;31mKeyboardInterrupt\u001B[0m: "
     ]
    }
   ],
   "source": [
    "train_list = [x_train_prices, x_train_rsi, x_train_sma, x_train_macd]\n",
    "test_list = [x_test_prices, x_test_rsi, x_test_sma, x_test_macd]\n",
    "for i in range(0, 100):\n",
    "    model.fit(train_list, y_train, epochs=20, validation_data=(test_list, y_test), batch_size=32)\n",
    "    model.save(f'stock_prediction_merged_v3_{i}_steps')\n"
   ],
   "metadata": {
    "collapsed": false,
    "pycharm": {
     "name": "#%%\n"
    }
   }
  },
  {
   "cell_type": "code",
   "execution_count": null,
   "outputs": [],
   "source": [
    "predictions = model.predict(test_list)\n",
    "\n",
    "# predictions = scaler.inverse_transform(predictions)\n",
    "#\n",
    "# fig, ax = plt.subplots(figsize=(8, 4))\n",
    "# plt.plot(df, color='red',  label=\"True Price\")\n",
    "# ax.plot(range(len(y_train)+50, len(y_train)+50+len(predictions)), predictions, color='blue', label='Predicted Testing Price')\n",
    "# plt.legend()\n",
    "# plt.show()\n",
    "#\n",
    "#\n",
    "#\n",
    "# y_test_scaled = scaler.inverse_transform(y_test.reshape(-1, 1))\n",
    "#\n",
    "# fig, ax = plt.subplots(figsize=(8, 4))\n",
    "# ax.plot(y_test_scaled, color='red', label='True Testing Price')\n",
    "# plt.plot(predictions, color='blue', label='Predicted Testing Price')\n",
    "# plt.legend()\n",
    "# plt.show()"
   ],
   "metadata": {
    "collapsed": false,
    "pycharm": {
     "name": "#%%\n"
    }
   }
  },
  {
   "cell_type": "code",
   "execution_count": null,
   "outputs": [],
   "source": [
    "y_test"
   ],
   "metadata": {
    "collapsed": false,
    "pycharm": {
     "name": "#%%\n"
    }
   }
  },
  {
   "cell_type": "code",
   "execution_count": null,
   "outputs": [],
   "source": [
    "predictions"
   ],
   "metadata": {
    "collapsed": false,
    "pycharm": {
     "name": "#%%\n"
    }
   }
  },
  {
   "cell_type": "code",
   "execution_count": null,
   "outputs": [],
   "source": [
    "# y_test_scaled = scaler.inverse_transform(y_test[0].reshape(-1, 1))\n",
    "# predictions_scaled = scaler.inverse_transform(predictions[0].reshape(-1, 1))\n",
    "all_test_lines = np.concatenate(y_test)\n",
    "all_test_predictions = np.concatenate(predictions)"
   ],
   "metadata": {
    "collapsed": false,
    "pycharm": {
     "name": "#%%\n"
    }
   }
  },
  {
   "cell_type": "code",
   "execution_count": null,
   "outputs": [],
   "source": [
    "y_test_scaled = scaler_prices.inverse_transform(all_test_lines.reshape(-1, 1))\n",
    "predictions_scaled = scaler_prices.inverse_transform(all_test_predictions.reshape(-1, 1))"
   ],
   "metadata": {
    "collapsed": false,
    "pycharm": {
     "name": "#%%\n"
    }
   }
  },
  {
   "cell_type": "code",
   "execution_count": null,
   "outputs": [],
   "source": [
    "plt.plot(y_test_scaled, color='red', label='Actual Prices')\n",
    "plt.plot(predictions_scaled, color='blue', label='Predicted Prices')"
   ],
   "metadata": {
    "collapsed": false,
    "pycharm": {
     "name": "#%%\n"
    }
   }
  }
 ],
 "metadata": {
  "kernelspec": {
   "display_name": "Python 3",
   "language": "python",
   "name": "python3"
  },
  "language_info": {
   "codemirror_mode": {
    "name": "ipython",
    "version": 2
   },
   "file_extension": ".py",
   "mimetype": "text/x-python",
   "name": "python",
   "nbconvert_exporter": "python",
   "pygments_lexer": "ipython2",
   "version": "2.7.6"
  }
 },
 "nbformat": 4,
 "nbformat_minor": 0
}